{
 "cells": [
  {
   "cell_type": "code",
   "execution_count": 1,
   "source": [
    "import tensorflow as tf\r\n",
    "\r\n",
    "from tensorflow.keras import layers"
   ],
   "outputs": [],
   "metadata": {}
  },
  {
   "cell_type": "markdown",
   "source": [
    "#### Generating random values"
   ],
   "metadata": {}
  },
  {
   "cell_type": "code",
   "execution_count": 2,
   "source": [
    "# Initialise tensor with zeros\r\n",
    "zero_initializer = tf.zeros_initializer()\r\n",
    "\r\n",
    "tensor_1 = zero_initializer(shape=(2, 3))\r\n",
    "\r\n",
    "tensor_1"
   ],
   "outputs": [
    {
     "output_type": "execute_result",
     "data": {
      "text/plain": [
       "<tf.Tensor: shape=(2, 3), dtype=float32, numpy=\n",
       "array([[0., 0., 0.],\n",
       "       [0., 0., 0.]], dtype=float32)>"
      ]
     },
     "metadata": {},
     "execution_count": 2
    }
   ],
   "metadata": {}
  },
  {
   "cell_type": "code",
   "execution_count": 3,
   "source": [
    "# Initialise tensor with random values from normal distribution\r\n",
    "random_normal_initializer = tf.random_normal_initializer()\r\n",
    "\r\n",
    "tensor_2 = random_normal_initializer(shape=(4, 5))\r\n",
    "\r\n",
    "tensor_2"
   ],
   "outputs": [
    {
     "output_type": "execute_result",
     "data": {
      "text/plain": [
       "<tf.Tensor: shape=(4, 5), dtype=float32, numpy=\n",
       "array([[-0.02789928,  0.00683808,  0.00326401, -0.04736312, -0.01134217],\n",
       "       [ 0.0203437 ,  0.03332497,  0.08339243,  0.03652703,  0.02847561],\n",
       "       [ 0.02440807,  0.07690077,  0.0134553 ,  0.01627414,  0.0013748 ],\n",
       "       [ 0.0184413 ,  0.03744538, -0.02332657, -0.0843721 ,  0.00069277]],\n",
       "      dtype=float32)>"
      ]
     },
     "metadata": {},
     "execution_count": 3
    }
   ],
   "metadata": {}
  },
  {
   "cell_type": "markdown",
   "source": [
    "## Writing a custom layer - Example 1\r\n",
    "The `layers.Layer` base class encapsulates **state** and **transformation** from inputs to outputs\r\n",
    "\r\n",
    "#### Writing custom layer which implement  y=ax+b and return y as result"
   ],
   "metadata": {}
  },
  {
   "cell_type": "code",
   "execution_count": 70,
   "source": [
    "class SimpleLinear(layers.Layer):\r\n",
    "    \"\"\"\r\n",
    "    Builds a custom layer with weights\r\n",
    "    and bias tensors initialised\r\n",
    "\r\n",
    "    Args:\r\n",
    "        input_dim: number of features in input data\r\n",
    "        units: number of neurons in layer\r\n",
    "    \"\"\"\r\n",
    "    def __init__ (self, input_dim=16, units=8, **kwargs):\r\n",
    "        super(SimpleLinear, self).__init__(**kwargs)\r\n",
    "        # initialise weights of layer\r\n",
    "        w_init = tf.random_normal_initializer(seed=42)\r\n",
    "        # setup weights as a variable\r\n",
    "        self.w = tf.Variable(initial_value=w_init(shape=(input_dim, units), \r\n",
    "                                                  dtype='float32'), \r\n",
    "                             trainable=True) #weights can be updated during training\r\n",
    "        # initialise bias variable\r\n",
    "        b_init = tf.zeros_initializer()\r\n",
    "        self.b = tf.Variable(initial_value=b_init(shape=(units),\r\n",
    "                                                  dtype='float32'),\r\n",
    "                             trainable=True)\r\n",
    "    \r\n",
    "    def call(self, input_tensor):\r\n",
    "        \"\"\"\r\n",
    "        Function invoked during forward pass through \r\n",
    "        NN. Takes input_tensor and returns transformation\r\n",
    "        \"\"\"\r\n",
    "        return tf.matmul(input_tensor, self.w) + self.b"
   ],
   "outputs": [],
   "metadata": {}
  },
  {
   "cell_type": "code",
   "execution_count": 71,
   "source": [
    "# define tensor of shape n_samples, n_features to input into custom layer\r\n",
    "x = tf.ones((4, 3))\r\n",
    "\r\n",
    "x"
   ],
   "outputs": [
    {
     "output_type": "execute_result",
     "data": {
      "text/plain": [
       "<tf.Tensor: shape=(4, 3), dtype=float32, numpy=\n",
       "array([[1., 1., 1.],\n",
       "       [1., 1., 1.],\n",
       "       [1., 1., 1.],\n",
       "       [1., 1., 1.]], dtype=float32)>"
      ]
     },
     "metadata": {},
     "execution_count": 71
    }
   ],
   "metadata": {}
  },
  {
   "cell_type": "code",
   "execution_count": 75,
   "source": [
    "layer1 = SimpleLinear(input_dim=3, units=5)\r\n",
    "\r\n",
    "y = layer1(x)\r\n",
    "\r\n",
    "print(y)"
   ],
   "outputs": [
    {
     "output_type": "stream",
     "name": "stdout",
     "text": [
      "tf.Tensor(\n",
      "[[-0.06109101 -0.04419043  0.08334999  0.07480112 -0.02461273]\n",
      " [-0.06109101 -0.04419043  0.08334999  0.07480112 -0.02461273]\n",
      " [-0.06109101 -0.04419043  0.08334999  0.07480112 -0.02461273]\n",
      " [-0.06109101 -0.04419043  0.08334999  0.07480112 -0.02461273]], shape=(4, 5), dtype=float32)\n"
     ]
    }
   ],
   "metadata": {}
  },
  {
   "cell_type": "code",
   "execution_count": 76,
   "source": [
    "# access model parameters of layer (weights and bias)\r\n",
    "layer1.weights"
   ],
   "outputs": [
    {
     "output_type": "execute_result",
     "data": {
      "text/plain": [
       "[<tf.Variable 'Variable:0' shape=(3, 5) dtype=float32, numpy=\n",
       " array([[ 0.00079085, -0.07950435,  0.00517972,  0.0405873 , -0.08051775],\n",
       "        [-0.07895523,  0.03320629,  0.01739371,  0.0328981 ,  0.09575269],\n",
       "        [ 0.01707336,  0.00210763,  0.06077656,  0.00131572, -0.03984767]],\n",
       "       dtype=float32)>,\n",
       " <tf.Variable 'Variable:0' shape=(5,) dtype=float32, numpy=array([0., 0., 0., 0., 0.], dtype=float32)>]"
      ]
     },
     "metadata": {},
     "execution_count": 76
    }
   ],
   "metadata": {}
  },
  {
   "cell_type": "code",
   "execution_count": 77,
   "source": [
    "# access weights of layer\r\n",
    "layer1.w"
   ],
   "outputs": [
    {
     "output_type": "execute_result",
     "data": {
      "text/plain": [
       "<tf.Variable 'Variable:0' shape=(3, 5) dtype=float32, numpy=\n",
       "array([[ 0.00079085, -0.07950435,  0.00517972,  0.0405873 , -0.08051775],\n",
       "       [-0.07895523,  0.03320629,  0.01739371,  0.0328981 ,  0.09575269],\n",
       "       [ 0.01707336,  0.00210763,  0.06077656,  0.00131572, -0.03984767]],\n",
       "      dtype=float32)>"
      ]
     },
     "metadata": {},
     "execution_count": 77
    }
   ],
   "metadata": {}
  },
  {
   "cell_type": "code",
   "execution_count": 78,
   "source": [
    "# access bias of layer\r\n",
    "layer1.b"
   ],
   "outputs": [
    {
     "output_type": "execute_result",
     "data": {
      "text/plain": [
       "<tf.Variable 'Variable:0' shape=(5,) dtype=float32, numpy=array([0., 0., 0., 0., 0.], dtype=float32)>"
      ]
     },
     "metadata": {},
     "execution_count": 78
    }
   ],
   "metadata": {}
  },
  {
   "cell_type": "code",
   "execution_count": 10,
   "source": [
    "# access trainable variables in layer\r\n",
    "layer1.trainable_variables"
   ],
   "outputs": [
    {
     "output_type": "execute_result",
     "data": {
      "text/plain": [
       "[<tf.Variable 'Variable:0' shape=(3, 5) dtype=float32, numpy=\n",
       " array([[ 0.03688005, -0.00401203, -0.05581633, -0.01328201,  0.0277594 ],\n",
       "        [ 0.05836995, -0.01119329,  0.01930366, -0.10592552, -0.11552056],\n",
       "        [ 0.02007439, -0.0667532 ,  0.09441214,  0.04651538, -0.07163733]],\n",
       "       dtype=float32)>,\n",
       " <tf.Variable 'Variable:0' shape=(5,) dtype=float32, numpy=array([0., 0., 0., 0., 0.], dtype=float32)>]"
      ]
     },
     "metadata": {},
     "execution_count": 10
    }
   ],
   "metadata": {}
  },
  {
   "cell_type": "code",
   "execution_count": 11,
   "source": [
    "# access non-trainable variables in layer\r\n",
    "layer1.non_trainable_variables"
   ],
   "outputs": [
    {
     "output_type": "execute_result",
     "data": {
      "text/plain": [
       "[]"
      ]
     },
     "metadata": {},
     "execution_count": 11
    }
   ],
   "metadata": {}
  },
  {
   "cell_type": "code",
   "execution_count": 12,
   "source": [
    "# access layer loss functions\r\n",
    "layer1.losses"
   ],
   "outputs": [
    {
     "output_type": "execute_result",
     "data": {
      "text/plain": [
       "[]"
      ]
     },
     "metadata": {},
     "execution_count": 12
    }
   ],
   "metadata": {}
  },
  {
   "cell_type": "markdown",
   "source": [
    "## Writing a custom layer - Example 2: Using add_weight\r\n",
    "A more efficient way to initialise weights and biases"
   ],
   "metadata": {}
  },
  {
   "cell_type": "code",
   "execution_count": 13,
   "source": [
    "class SimpleLinear(layers.Layer):\r\n",
    "    \"\"\"\r\n",
    "    Builds a custom layer and initialises\r\n",
    "    weights and biases using `add_weights`\r\n",
    "    \"\"\"\r\n",
    "    def __init__(self, input_dim=16, units=8, **kwargs):\r\n",
    "        \r\n",
    "        super(SimpleLinear, self).__init__(**kwargs)\r\n",
    "        \r\n",
    "        self.w = self.add_weight(shape=(input_dim, units),\r\n",
    "                                 initializer='ones',\r\n",
    "                                 trainable=True)\r\n",
    "        \r\n",
    "        self.b = self.add_weight(shape=(units),\r\n",
    "                                 initializer='ones',\r\n",
    "                                 trainable=False) # do not want to have bias values change\r\n",
    "        \r\n",
    "    def call(self, input_tensor):\r\n",
    "        return tf.matmul(input_tensor, self.w) + self.b"
   ],
   "outputs": [],
   "metadata": {}
  },
  {
   "cell_type": "code",
   "execution_count": 14,
   "source": [
    "# Create input to custom layer\r\n",
    "random_uniform_initializer = tf.random_uniform_initializer()\r\n",
    "x = random_uniform_initializer(shape=(4, 3))\r\n",
    "\r\n",
    "print(x)"
   ],
   "outputs": [
    {
     "output_type": "stream",
     "name": "stdout",
     "text": [
      "tf.Tensor(\n",
      "[[ 0.04868371 -0.00229378 -0.01532765]\n",
      " [-0.04366636 -0.04483383 -0.0394825 ]\n",
      " [ 0.03248967  0.04972379  0.00791193]\n",
      " [ 0.04263145 -0.00716151 -0.03875586]], shape=(4, 3), dtype=float32)\n"
     ]
    }
   ],
   "metadata": {}
  },
  {
   "cell_type": "code",
   "execution_count": 15,
   "source": [
    "layer2 = SimpleLinear(input_dim=x.shape[1], units=4)\r\n",
    "\r\n",
    "y = layer2(x)\r\n",
    "\r\n",
    "print(y)"
   ],
   "outputs": [
    {
     "output_type": "stream",
     "name": "stdout",
     "text": [
      "tf.Tensor(\n",
      "[[1.0310622 1.0310622 1.0310622 1.0310622]\n",
      " [0.8720173 0.8720173 0.8720173 0.8720173]\n",
      " [1.0901254 1.0901254 1.0901254 1.0901254]\n",
      " [0.9967141 0.9967141 0.9967141 0.9967141]], shape=(4, 4), dtype=float32)\n"
     ]
    }
   ],
   "metadata": {}
  },
  {
   "cell_type": "code",
   "execution_count": 16,
   "source": [
    "layer2.weights"
   ],
   "outputs": [
    {
     "output_type": "execute_result",
     "data": {
      "text/plain": [
       "[<tf.Variable 'Variable:0' shape=(3, 4) dtype=float32, numpy=\n",
       " array([[1., 1., 1., 1.],\n",
       "        [1., 1., 1., 1.],\n",
       "        [1., 1., 1., 1.]], dtype=float32)>,\n",
       " <tf.Variable 'Variable:0' shape=(4,) dtype=float32, numpy=array([1., 1., 1., 1.], dtype=float32)>]"
      ]
     },
     "metadata": {},
     "execution_count": 16
    }
   ],
   "metadata": {}
  },
  {
   "cell_type": "code",
   "execution_count": 17,
   "source": [
    "layer2.trainable_variables"
   ],
   "outputs": [
    {
     "output_type": "execute_result",
     "data": {
      "text/plain": [
       "[<tf.Variable 'Variable:0' shape=(3, 4) dtype=float32, numpy=\n",
       " array([[1., 1., 1., 1.],\n",
       "        [1., 1., 1., 1.],\n",
       "        [1., 1., 1., 1.]], dtype=float32)>]"
      ]
     },
     "metadata": {},
     "execution_count": 17
    }
   ],
   "metadata": {}
  },
  {
   "cell_type": "code",
   "execution_count": 18,
   "source": [
    "layer2.non_trainable_variables"
   ],
   "outputs": [
    {
     "output_type": "execute_result",
     "data": {
      "text/plain": [
       "[<tf.Variable 'Variable:0' shape=(4,) dtype=float32, numpy=array([1., 1., 1., 1.], dtype=float32)>]"
      ]
     },
     "metadata": {},
     "execution_count": 18
    }
   ],
   "metadata": {}
  },
  {
   "cell_type": "markdown",
   "source": [
    "## Writing a custom layer - Example 3: Input shape inferred\r\n",
    "- During the forward pass, the layer will automatically call the build() method to determine input shape and initialise weights\r\n",
    "- Reflects best practice of deferring weight creation until shape of input is known"
   ],
   "metadata": {}
  },
  {
   "cell_type": "code",
   "execution_count": 19,
   "source": [
    "class SimpleLinear(layers.Layer):\r\n",
    "    \"\"\"\r\n",
    "    Builds a custom layer by inferring input\r\n",
    "    shape and using this to initialise weights\r\n",
    "    and bias tensors\r\n",
    "    \"\"\"\r\n",
    "    def __init__(self, units=8, **kwargs):\r\n",
    "        \r\n",
    "        super(SimpleLinear, self).__init__(**kwargs)\r\n",
    "        self.units = units\r\n",
    "\r\n",
    "    def build(self, input_shape):\r\n",
    "        \"\"\"\r\n",
    "        Infers input shape and uses this to initialise\r\n",
    "        weights and bias tensors\r\n",
    "        \"\"\"\r\n",
    "        self.w = self.add_weight(shape=(input_shape[-1], self.units),\r\n",
    "                                 initializer='random_normal',\r\n",
    "                                 trainable=True)\r\n",
    "        \r\n",
    "        self.b = self.add_weight(shape=(self.units),\r\n",
    "                                 initializer='ones',\r\n",
    "                                 trainable=True)\r\n",
    "        \r\n",
    "    def call(self, input_tensor):\r\n",
    "        return tf.matmul(input_tensor, self.w) + self.b"
   ],
   "outputs": [],
   "metadata": {}
  },
  {
   "cell_type": "code",
   "execution_count": 20,
   "source": [
    "random_uniform_initializer = tf.random_uniform_initializer()\r\n",
    "x = random_uniform_initializer(shape=(4, 5))\r\n",
    "\r\n",
    "print(x)"
   ],
   "outputs": [
    {
     "output_type": "stream",
     "name": "stdout",
     "text": [
      "tf.Tensor(\n",
      "[[-0.03737974 -0.01351442  0.01787747  0.01492888 -0.03826288]\n",
      " [ 0.0098931   0.04092081  0.04382533  0.01807454 -0.0454662 ]\n",
      " [-0.00298588  0.04417959 -0.00903058 -0.03013923 -0.02814683]\n",
      " [ 0.01159225  0.00784689  0.01473658 -0.03458623 -0.04390034]], shape=(4, 5), dtype=float32)\n"
     ]
    }
   ],
   "metadata": {}
  },
  {
   "cell_type": "code",
   "execution_count": 21,
   "source": [
    "layer3 = SimpleLinear(units=3)\r\n",
    "\r\n",
    "y = layer3(x)\r\n",
    "\r\n",
    "print(y)"
   ],
   "outputs": [
    {
     "output_type": "stream",
     "name": "stdout",
     "text": [
      "tf.Tensor(\n",
      "[[1.000301   0.9976556  1.0002667 ]\n",
      " [0.9945798  0.99841887 0.99474055]\n",
      " [0.9956783  0.9986199  0.9948651 ]\n",
      " [0.9945677  0.9961827  0.9983542 ]], shape=(4, 3), dtype=float32)\n"
     ]
    }
   ],
   "metadata": {}
  },
  {
   "cell_type": "code",
   "execution_count": 22,
   "source": [
    "layer3.losses"
   ],
   "outputs": [
    {
     "output_type": "execute_result",
     "data": {
      "text/plain": [
       "[]"
      ]
     },
     "metadata": {},
     "execution_count": 22
    }
   ],
   "metadata": {}
  },
  {
   "cell_type": "markdown",
   "source": [
    "## Recursively combine layers"
   ],
   "metadata": {}
  },
  {
   "cell_type": "code",
   "execution_count": 23,
   "source": [
    "class SimpleLinearBlock(layers.Layer):\r\n",
    "    \"\"\"\r\n",
    "    Construct block of linear layers\r\n",
    "    \"\"\"\r\n",
    "    def __init__(self, block_1_units=2, block_2_units=4, block_3_units=8, **kwargs):\r\n",
    "        super(SimpleLinearBlock, self).__init__(**kwargs)\r\n",
    "        \r\n",
    "        self.linear_1 = SimpleLinear(block_1_units)\r\n",
    "        self.linear_2 = SimpleLinear(block_2_units)\r\n",
    "        self.linear_3 = SimpleLinear(block_3_units)\r\n",
    "\r\n",
    "    def call(self, inputs):\r\n",
    "        \"\"\"\r\n",
    "        Define forward pass\r\n",
    "        \"\"\"\r\n",
    "        # first layer with Relu activation\r\n",
    "        x = self.linear_1(inputs)\r\n",
    "        x = tf.nn.relu(x)\r\n",
    "        # second layer with Relu activation\r\n",
    "        x = self.linear_2(x)\r\n",
    "        x = tf.nn.relu(x)\r\n",
    "        \r\n",
    "        return self.linear_3(x)"
   ],
   "outputs": [],
   "metadata": {}
  },
  {
   "cell_type": "code",
   "execution_count": 24,
   "source": [
    "random_uniform_initializer = tf.random_uniform_initializer()\r\n",
    "x = random_uniform_initializer(shape=(4, 5))\r\n",
    "\r\n",
    "print(x)"
   ],
   "outputs": [
    {
     "output_type": "stream",
     "name": "stdout",
     "text": [
      "tf.Tensor(\n",
      "[[ 0.03725428 -0.04504974 -0.01029807 -0.01965427  0.04428079]\n",
      " [ 0.04127705  0.03181204  0.00818314  0.04191225 -0.02457764]\n",
      " [ 0.01765071  0.04152394  0.01699824 -0.02187002 -0.02366617]\n",
      " [-0.00149008 -0.04924861  0.02516376 -0.00630144 -0.00108534]], shape=(4, 5), dtype=float32)\n"
     ]
    }
   ],
   "metadata": {}
  },
  {
   "cell_type": "code",
   "execution_count": 25,
   "source": [
    "simple_linear_block = SimpleLinearBlock()\r\n",
    "\r\n",
    "y = simple_linear_block(x)\r\n",
    "\r\n",
    "y"
   ],
   "outputs": [
    {
     "output_type": "execute_result",
     "data": {
      "text/plain": [
       "<tf.Tensor: shape=(4, 8), dtype=float32, numpy=\n",
       "array([[0.8564124 , 0.86113393, 1.1123309 , 1.0057827 , 1.0694435 ,\n",
       "        0.9393192 , 1.1163256 , 1.0173671 ],\n",
       "       [0.8563838 , 0.8610899 , 1.1123588 , 1.0057288 , 1.0694249 ,\n",
       "        0.9393133 , 1.1163603 , 1.0174218 ],\n",
       "       [0.8563824 , 0.86108613, 1.1123619 , 1.005725  , 1.0694249 ,\n",
       "        0.9393124 , 1.1163657 , 1.017425  ],\n",
       "       [0.85640883, 0.86113024, 1.1123326 , 1.0057775 , 1.0694401 ,\n",
       "        0.93931913, 1.1163261 , 1.0173733 ]], dtype=float32)>"
      ]
     },
     "metadata": {},
     "execution_count": 25
    }
   ],
   "metadata": {}
  },
  {
   "cell_type": "code",
   "execution_count": 26,
   "source": [
    "# weights attribute contiains parameters of each layer \r\n",
    "simple_linear_block.weights"
   ],
   "outputs": [
    {
     "output_type": "execute_result",
     "data": {
      "text/plain": [
       "[<tf.Variable 'simple_linear_block/simple_linear_3/Variable:0' shape=(5, 2) dtype=float32, numpy=\n",
       " array([[-0.10004141,  0.02104964],\n",
       "        [-0.00919097, -0.08410694],\n",
       "        [-0.10898196,  0.01205503],\n",
       "        [ 0.01814194, -0.01056088],\n",
       "        [ 0.02495027,  0.01391944]], dtype=float32)>,\n",
       " <tf.Variable 'simple_linear_block/simple_linear_3/Variable:0' shape=(2,) dtype=float32, numpy=array([1., 1.], dtype=float32)>,\n",
       " <tf.Variable 'simple_linear_block/simple_linear_4/Variable:0' shape=(2, 4) dtype=float32, numpy=\n",
       " array([[ 0.0587779 , -0.03880527, -0.00995997,  0.03782784],\n",
       "        [-0.04849774,  0.01731587, -0.08567833, -0.04359399]],\n",
       "       dtype=float32)>,\n",
       " <tf.Variable 'simple_linear_block/simple_linear_4/Variable:0' shape=(4,) dtype=float32, numpy=array([1., 1., 1., 1.], dtype=float32)>,\n",
       " <tf.Variable 'simple_linear_block/simple_linear_5/Variable:0' shape=(4, 8) dtype=float32, numpy=\n",
       " array([[-0.02420193,  0.00183019, -0.01781346, -0.02867349,  0.00280091,\n",
       "         -0.00257707,  0.07787789, -0.01498709],\n",
       "        [-0.07869134, -0.02240364,  0.009006  ,  0.05498569,  0.02723419,\n",
       "         -0.0186435 , -0.02455418, -0.03079255],\n",
       "        [-0.02996967, -0.03927931,  0.01250132, -0.08822574, -0.05201034,\n",
       "          0.00495632,  0.01974027,  0.08575499],\n",
       "        [-0.01513444, -0.08379037,  0.11087825,  0.06104783,  0.08750457,\n",
       "         -0.04458238,  0.0441271 , -0.01496797]], dtype=float32)>,\n",
       " <tf.Variable 'simple_linear_block/simple_linear_5/Variable:0' shape=(8,) dtype=float32, numpy=array([1., 1., 1., 1., 1., 1., 1., 1.], dtype=float32)>]"
      ]
     },
     "metadata": {},
     "execution_count": 26
    }
   ],
   "metadata": {}
  },
  {
   "cell_type": "code",
   "execution_count": 27,
   "source": [
    "simple_linear_block.trainable_weights"
   ],
   "outputs": [
    {
     "output_type": "execute_result",
     "data": {
      "text/plain": [
       "[<tf.Variable 'simple_linear_block/simple_linear_3/Variable:0' shape=(5, 2) dtype=float32, numpy=\n",
       " array([[-0.10004141,  0.02104964],\n",
       "        [-0.00919097, -0.08410694],\n",
       "        [-0.10898196,  0.01205503],\n",
       "        [ 0.01814194, -0.01056088],\n",
       "        [ 0.02495027,  0.01391944]], dtype=float32)>,\n",
       " <tf.Variable 'simple_linear_block/simple_linear_3/Variable:0' shape=(2,) dtype=float32, numpy=array([1., 1.], dtype=float32)>,\n",
       " <tf.Variable 'simple_linear_block/simple_linear_4/Variable:0' shape=(2, 4) dtype=float32, numpy=\n",
       " array([[ 0.0587779 , -0.03880527, -0.00995997,  0.03782784],\n",
       "        [-0.04849774,  0.01731587, -0.08567833, -0.04359399]],\n",
       "       dtype=float32)>,\n",
       " <tf.Variable 'simple_linear_block/simple_linear_4/Variable:0' shape=(4,) dtype=float32, numpy=array([1., 1., 1., 1.], dtype=float32)>,\n",
       " <tf.Variable 'simple_linear_block/simple_linear_5/Variable:0' shape=(4, 8) dtype=float32, numpy=\n",
       " array([[-0.02420193,  0.00183019, -0.01781346, -0.02867349,  0.00280091,\n",
       "         -0.00257707,  0.07787789, -0.01498709],\n",
       "        [-0.07869134, -0.02240364,  0.009006  ,  0.05498569,  0.02723419,\n",
       "         -0.0186435 , -0.02455418, -0.03079255],\n",
       "        [-0.02996967, -0.03927931,  0.01250132, -0.08822574, -0.05201034,\n",
       "          0.00495632,  0.01974027,  0.08575499],\n",
       "        [-0.01513444, -0.08379037,  0.11087825,  0.06104783,  0.08750457,\n",
       "         -0.04458238,  0.0441271 , -0.01496797]], dtype=float32)>,\n",
       " <tf.Variable 'simple_linear_block/simple_linear_5/Variable:0' shape=(8,) dtype=float32, numpy=array([1., 1., 1., 1., 1., 1., 1., 1.], dtype=float32)>]"
      ]
     },
     "metadata": {},
     "execution_count": 27
    }
   ],
   "metadata": {}
  },
  {
   "cell_type": "markdown",
   "source": [
    "## Accumulate losses with custom layers"
   ],
   "metadata": {}
  },
  {
   "cell_type": "code",
   "execution_count": 28,
   "source": [
    "class RegularizationLoss(layers.Layer):\r\n",
    "    \"\"\"\r\n",
    "    Recursively calculate and add Regularlization losses \r\n",
    "    of inner layers in forward pass\r\n",
    "    \"\"\"\r\n",
    "    def __init__(self, rate=1e-3, **kwargs):\r\n",
    "        super(RegularizationLoss, self).__init__(**kwargs)\r\n",
    "        \r\n",
    "        self.rate = rate\r\n",
    "\r\n",
    "    def call(self, input_tensor):\r\n",
    "        \"\"\"\r\n",
    "        \"\"\"\r\n",
    "        self.add_loss(self.rate * tf.reduce_sum(input_tensor))\r\n",
    "        \r\n",
    "        return input_tensor"
   ],
   "outputs": [],
   "metadata": {}
  },
  {
   "cell_type": "code",
   "execution_count": 29,
   "source": [
    "random_uniform_initializer = tf.random_uniform_initializer()\r\n",
    "x = random_uniform_initializer(shape=(4, 5))\r\n",
    "\r\n",
    "print(x)"
   ],
   "outputs": [
    {
     "output_type": "stream",
     "name": "stdout",
     "text": [
      "tf.Tensor(\n",
      "[[ 0.03750153  0.04499655  0.00933938  0.00770434  0.04118356]\n",
      " [ 0.00353263  0.00576295  0.01615648 -0.03374349  0.03812153]\n",
      " [ 0.02150048  0.02361659  0.02241809  0.00042053 -0.03653604]\n",
      " [-0.02048339  0.04884063  0.00770457 -0.02292845 -0.01943657]], shape=(4, 5), dtype=float32)\n"
     ]
    }
   ],
   "metadata": {}
  },
  {
   "cell_type": "code",
   "execution_count": 30,
   "source": [
    "# calculate loss (returns output)\r\n",
    "reg_loss_layer = RegularizationLoss()\r\n",
    "\r\n",
    "y = reg_loss_layer(x)\r\n",
    "\r\n",
    "y"
   ],
   "outputs": [
    {
     "output_type": "execute_result",
     "data": {
      "text/plain": [
       "<tf.Tensor: shape=(4, 5), dtype=float32, numpy=\n",
       "array([[ 0.03750153,  0.04499655,  0.00933938,  0.00770434,  0.04118356],\n",
       "       [ 0.00353263,  0.00576295,  0.01615648, -0.03374349,  0.03812153],\n",
       "       [ 0.02150048,  0.02361659,  0.02241809,  0.00042053, -0.03653604],\n",
       "       [-0.02048339,  0.04884063,  0.00770457, -0.02292845, -0.01943657]],\n",
       "      dtype=float32)>"
      ]
     },
     "metadata": {},
     "execution_count": 30
    }
   ],
   "metadata": {}
  },
  {
   "cell_type": "code",
   "execution_count": 31,
   "source": [
    "# access loss\r\n",
    "reg_loss_layer.losses"
   ],
   "outputs": [
    {
     "output_type": "execute_result",
     "data": {
      "text/plain": [
       "[<tf.Tensor: shape=(), dtype=float32, numpy=0.00019567189>]"
      ]
     },
     "metadata": {},
     "execution_count": 31
    }
   ],
   "metadata": {}
  },
  {
   "cell_type": "code",
   "execution_count": 32,
   "source": [
    "class SimpleLinearRegularized(layers.Layer):\r\n",
    "    \"\"\"\r\n",
    "    Construct block of linear layers with \r\n",
    "    Regularised loss calculation\r\n",
    "    \"\"\"\r\n",
    "    def __init__(self, units=8, **kwargs):\r\n",
    "        super(SimpleLinearRegularized, self).__init__(**kwargs)\r\n",
    "        \r\n",
    "        self.units = units\r\n",
    "        # initialise Regularisation loss layer\r\n",
    "        self.reg = RegularizationLoss(1e-2)\r\n",
    "\r\n",
    "    def build(self, input_shape):\r\n",
    "        \"\"\"\r\n",
    "        Infers input shape and uses this to initialise\r\n",
    "        weights and bias tensors\r\n",
    "        \"\"\"\r\n",
    "        self.w = self.add_weight(shape=(input_shape[-1], self.units),\r\n",
    "                                 initializer='random_normal',\r\n",
    "                                 trainable=True)\r\n",
    "        \r\n",
    "        self.b = self.add_weight(shape=(self.units),\r\n",
    "                                 initializer='ones',\r\n",
    "                                 trainable=True)\r\n",
    "        \r\n",
    "    def call(self, input_tensor):\r\n",
    "        \"\"\"\r\n",
    "        Define forward pass transformation and perform\r\n",
    "        calculation of regulrisation loss\r\n",
    "        \"\"\"\r\n",
    "        output = tf.matmul(input_tensor, self.w) + self.b\r\n",
    "        \r\n",
    "        return self.reg(output)"
   ],
   "outputs": [],
   "metadata": {}
  },
  {
   "cell_type": "code",
   "execution_count": 33,
   "source": [
    "random_uniform_initializer = tf.random_uniform_initializer()\r\n",
    "x = random_uniform_initializer(shape=(4, 5))\r\n",
    "\r\n",
    "print(x)"
   ],
   "outputs": [
    {
     "output_type": "stream",
     "name": "stdout",
     "text": [
      "tf.Tensor(\n",
      "[[-0.00014638 -0.03492552 -0.03986495 -0.02051826 -0.03435755]\n",
      " [ 0.04977988  0.04573481  0.00445648 -0.0382214  -0.03678267]\n",
      " [ 0.00414443 -0.00348755  0.04654903  0.02064287  0.02308827]\n",
      " [ 0.00323581 -0.02553785  0.02907645  0.02877097 -0.00106151]], shape=(4, 5), dtype=float32)\n"
     ]
    }
   ],
   "metadata": {}
  },
  {
   "cell_type": "code",
   "execution_count": 34,
   "source": [
    "layer4 = SimpleLinearRegularized(units=3)\r\n",
    "\r\n",
    "y = layer4(x)\r\n",
    "\r\n",
    "print(y)"
   ],
   "outputs": [
    {
     "output_type": "stream",
     "name": "stdout",
     "text": [
      "tf.Tensor(\n",
      "[[1.0012162  1.0028459  1.0040712 ]\n",
      " [1.0052425  1.0051581  0.9988985 ]\n",
      " [0.99878824 0.9967968  0.9969026 ]\n",
      " [0.9997867  0.9983173  0.99888533]], shape=(4, 3), dtype=float32)\n"
     ]
    }
   ],
   "metadata": {}
  },
  {
   "cell_type": "code",
   "execution_count": 35,
   "source": [
    "tf.matmul(x, layer4.w) + layer4.b"
   ],
   "outputs": [
    {
     "output_type": "execute_result",
     "data": {
      "text/plain": [
       "<tf.Tensor: shape=(4, 3), dtype=float32, numpy=\n",
       "array([[1.0012162 , 1.0028459 , 1.0040712 ],\n",
       "       [1.0052425 , 1.0051581 , 0.9988985 ],\n",
       "       [0.99878824, 0.9967968 , 0.9969026 ],\n",
       "       [0.9997867 , 0.9983173 , 0.99888533]], dtype=float32)>"
      ]
     },
     "metadata": {},
     "execution_count": 35
    }
   ],
   "metadata": {}
  },
  {
   "cell_type": "code",
   "execution_count": 36,
   "source": [
    "layer4.losses"
   ],
   "outputs": [
    {
     "output_type": "execute_result",
     "data": {
      "text/plain": [
       "[<tf.Tensor: shape=(), dtype=float32, numpy=0.120069094>]"
      ]
     },
     "metadata": {},
     "execution_count": 36
    }
   ],
   "metadata": {}
  },
  {
   "cell_type": "code",
   "execution_count": 37,
   "source": [
    "class DenseRegularized(layers.Layer):\r\n",
    "    \r\n",
    "    def __init__(self, units=8, **kwargs):\r\n",
    "        super(DenseRegularized, self).__init__(**kwargs)\r\n",
    "        \r\n",
    "        self.dense = layers.Dense(units, kernel_regularizer=tf.keras.regularizers.l2(1e-3))\r\n",
    "\r\n",
    "        self.reg = RegularizationLoss(1e-2)\r\n",
    "\r\n",
    "    def call(self, input_tensor):\r\n",
    "        \r\n",
    "        return self.reg(self.dense(input_tensor))"
   ],
   "outputs": [],
   "metadata": {}
  },
  {
   "cell_type": "code",
   "execution_count": 38,
   "source": [
    "random_uniform_initializer = tf.random_uniform_initializer()\r\n",
    "x = random_uniform_initializer(shape=(4, 5))\r\n",
    "\r\n",
    "print(x)"
   ],
   "outputs": [
    {
     "output_type": "stream",
     "name": "stdout",
     "text": [
      "tf.Tensor(\n",
      "[[ 0.03917679  0.03955319 -0.04564172 -0.00449406  0.03385191]\n",
      " [ 0.03662573  0.03650219  0.00513078  0.03905524 -0.04157194]\n",
      " [ 0.01591093 -0.03219298 -0.00531192 -0.00324652 -0.02163262]\n",
      " [-0.0026209  -0.02434813  0.01210544 -0.02406466 -0.00216426]], shape=(4, 5), dtype=float32)\n"
     ]
    }
   ],
   "metadata": {}
  },
  {
   "cell_type": "code",
   "execution_count": 39,
   "source": [
    "layer5 = DenseRegularized(units=3)\r\n",
    "\r\n",
    "y = layer5(x)\r\n",
    "\r\n",
    "print(y)"
   ],
   "outputs": [
    {
     "output_type": "stream",
     "name": "stdout",
     "text": [
      "tf.Tensor(\n",
      "[[-0.04511773  0.05514645  0.04473965]\n",
      " [-0.03152454 -0.02484538  0.01193219]\n",
      " [ 0.00629727  0.00601759  0.01607363]\n",
      " [ 0.01682028  0.00853279  0.0118827 ]], shape=(4, 3), dtype=float32)\n"
     ]
    }
   ],
   "metadata": {}
  },
  {
   "cell_type": "code",
   "execution_count": 40,
   "source": [
    "layer5.losses"
   ],
   "outputs": [
    {
     "output_type": "execute_result",
     "data": {
      "text/plain": [
       "[<tf.Tensor: shape=(), dtype=float32, numpy=0.0030179603>,\n",
       " <tf.Tensor: shape=(), dtype=float32, numpy=0.000759549>]"
      ]
     },
     "metadata": {},
     "execution_count": 40
    }
   ],
   "metadata": {}
  },
  {
   "cell_type": "markdown",
   "source": [
    "## Serialising layers and the Training parameter"
   ],
   "metadata": {}
  },
  {
   "cell_type": "code",
   "execution_count": 41,
   "source": [
    "class SimpleLinear(layers.Layer):\r\n",
    "    \r\n",
    "    def __init__(self, units=8, **kwargs):\r\n",
    "        \r\n",
    "        super(SimpleLinear, self).__init__(**kwargs)\r\n",
    "        self.units = units\r\n",
    "\r\n",
    "    def build(self, input_shape):\r\n",
    "        \r\n",
    "        self.w = self.add_weight(shape=(input_shape[-1], self.units),\r\n",
    "                                 initializer='random_normal',\r\n",
    "                                 trainable=True)\r\n",
    "        \r\n",
    "        self.b = self.add_weight(shape=(self.units),\r\n",
    "                                 initializer='ones',\r\n",
    "                                 trainable=True)\r\n",
    "        \r\n",
    "    def call(self, input_tensor):\r\n",
    "        return tf.matmul(input_tensor, self.w) + self.b\r\n",
    "    \r\n",
    "    def get_config(self):\r\n",
    "        \r\n",
    "        config = super(SimpleLinear, self).get_config()\r\n",
    "        config.update({'units': self.units})\r\n",
    "        \r\n",
    "        return config"
   ],
   "outputs": [],
   "metadata": {}
  },
  {
   "cell_type": "code",
   "execution_count": 42,
   "source": [
    "random_uniform_initializer = tf.random_uniform_initializer()\r\n",
    "x = random_uniform_initializer(shape=(4, 5))\r\n",
    "\r\n",
    "print(x)"
   ],
   "outputs": [
    {
     "output_type": "stream",
     "name": "stdout",
     "text": [
      "tf.Tensor(\n",
      "[[ 0.00968602 -0.01970121 -0.02488667 -0.00539993 -0.02108225]\n",
      " [ 0.00712296  0.02993789 -0.03822256  0.00238919  0.0203268 ]\n",
      " [ 0.02497227  0.02278117 -0.01284248 -0.00510219 -0.02852025]\n",
      " [ 0.02505982 -0.00873922 -0.02070403  0.02242423  0.03141702]], shape=(4, 5), dtype=float32)\n"
     ]
    }
   ],
   "metadata": {}
  },
  {
   "cell_type": "code",
   "execution_count": 43,
   "source": [
    "layer6 = SimpleLinear(units=3)\r\n",
    "\r\n",
    "y = layer6(x)\r\n",
    "\r\n",
    "print(y)"
   ],
   "outputs": [
    {
     "output_type": "stream",
     "name": "stdout",
     "text": [
      "tf.Tensor(\n",
      "[[0.99996847 1.0000405  0.99892116]\n",
      " [0.99667186 1.002154   0.998755  ]\n",
      " [0.99636436 1.0020441  1.0005286 ]\n",
      " [0.9990409  1.001442   0.9971994 ]], shape=(4, 3), dtype=float32)\n"
     ]
    }
   ],
   "metadata": {}
  },
  {
   "cell_type": "code",
   "execution_count": 44,
   "source": [
    "config = layer6.get_config()\r\n",
    "\r\n",
    "config"
   ],
   "outputs": [
    {
     "output_type": "execute_result",
     "data": {
      "text/plain": [
       "{'name': 'simple_linear_6', 'trainable': True, 'dtype': 'float32', 'units': 3}"
      ]
     },
     "metadata": {},
     "execution_count": 44
    }
   ],
   "metadata": {}
  },
  {
   "cell_type": "code",
   "execution_count": 45,
   "source": [
    "new_layer6 = SimpleLinear.from_config(config)\r\n",
    "\r\n",
    "new_layer6"
   ],
   "outputs": [
    {
     "output_type": "execute_result",
     "data": {
      "text/plain": [
       "<__main__.SimpleLinear at 0x231ab71d580>"
      ]
     },
     "metadata": {},
     "execution_count": 45
    }
   ],
   "metadata": {}
  },
  {
   "cell_type": "code",
   "execution_count": 46,
   "source": [
    "new_layer6.units"
   ],
   "outputs": [
    {
     "output_type": "execute_result",
     "data": {
      "text/plain": [
       "3"
      ]
     },
     "metadata": {},
     "execution_count": 46
    }
   ],
   "metadata": {}
  },
  {
   "cell_type": "markdown",
   "source": [
    "## Dropout / Batch normalisation layer\r\n",
    "`training` param specifies behaviour during training vs inference mode. Define in `call` function `training`=True applies dropout during training but not inference"
   ],
   "metadata": {}
  },
  {
   "cell_type": "code",
   "execution_count": 47,
   "source": [
    "class CustomDropout(layers.Layer):\r\n",
    "\r\n",
    "    def __init__(self, rate, **kwargs):\r\n",
    "        super(CustomDropout, self).__init__(**kwargs)\r\n",
    "        self.rate = rate\r\n",
    "\r\n",
    "    def call(self, inputs, training=None):\r\n",
    "        if training:\r\n",
    "            return tf.nn.dropout(inputs, rate=self.rate)\r\n",
    "        \r\n",
    "        return inputs"
   ],
   "outputs": [],
   "metadata": {}
  },
  {
   "cell_type": "code",
   "execution_count": 48,
   "source": [
    "random_uniform_initializer = tf.random_uniform_initializer()\r\n",
    "x = random_uniform_initializer(shape=(4, 5))\r\n",
    "\r\n",
    "print(x)"
   ],
   "outputs": [
    {
     "output_type": "stream",
     "name": "stdout",
     "text": [
      "tf.Tensor(\n",
      "[[ 0.00710841  0.02446458 -0.03503519  0.00526856 -0.0103348 ]\n",
      " [-0.01791159  0.04038422  0.02838732  0.04451326  0.04637121]\n",
      " [ 0.00312685  0.0117821  -0.03096086  0.01476829  0.00074893]\n",
      " [ 0.03132293  0.01203976 -0.02204903  0.02992047  0.03106285]], shape=(4, 5), dtype=float32)\n"
     ]
    }
   ],
   "metadata": {}
  },
  {
   "cell_type": "code",
   "execution_count": 49,
   "source": [
    "# no dropout applied\r\n",
    "layer7 = CustomDropout(rate=0.4)\r\n",
    "\r\n",
    "y = layer7(x)\r\n",
    "\r\n",
    "print(y)"
   ],
   "outputs": [
    {
     "output_type": "stream",
     "name": "stdout",
     "text": [
      "tf.Tensor(\n",
      "[[ 0.00710841  0.02446458 -0.03503519  0.00526856 -0.0103348 ]\n",
      " [-0.01791159  0.04038422  0.02838732  0.04451326  0.04637121]\n",
      " [ 0.00312685  0.0117821  -0.03096086  0.01476829  0.00074893]\n",
      " [ 0.03132293  0.01203976 -0.02204903  0.02992047  0.03106285]], shape=(4, 5), dtype=float32)\n"
     ]
    }
   ],
   "metadata": {}
  },
  {
   "cell_type": "code",
   "execution_count": 50,
   "source": [
    "# apply 40% dropout - 40% neurons set to zero\r\n",
    "layer7 = CustomDropout(rate=0.4)\r\n",
    "\r\n",
    "y = layer7(x, training=True)\r\n",
    "\r\n",
    "print(y)"
   ],
   "outputs": [
    {
     "output_type": "stream",
     "name": "stdout",
     "text": [
      "tf.Tensor(\n",
      "[[ 0.          0.         -0.          0.00878094 -0.        ]\n",
      " [-0.02985265  0.06730703  0.0473122   0.          0.        ]\n",
      " [ 0.00521141  0.         -0.05160143  0.02461382  0.00124822]\n",
      " [ 0.05220488  0.02006626 -0.03674839  0.04986745  0.05177142]], shape=(4, 5), dtype=float32)\n"
     ]
    }
   ],
   "metadata": {}
  },
  {
   "cell_type": "markdown",
   "source": [
    "# Write custom model"
   ],
   "metadata": {}
  },
  {
   "cell_type": "markdown",
   "source": [
    "`Writing very simple regression model`\n",
    "##### By using `tf.keras.Sequential` we build model as below:"
   ],
   "metadata": {}
  },
  {
   "cell_type": "code",
   "execution_count": 51,
   "source": [
    "class CustomRegressionModel(tf.keras.Model):\r\n",
    "    \r\n",
    "    def __init__(self, input_shape, units_1=16, units_2=8, \\\r\n",
    "                 activation='relu', initializer='random_normal'):\r\n",
    "        \r\n",
    "        super(CustomRegressionModel, self).__init__()\r\n",
    "\r\n",
    "        self.dense1 = layers.Dense(units_1,\r\n",
    "                                   activation=activation,\r\n",
    "                                   kernel_initializer=initializer,\r\n",
    "                                   input_shape=[input_shape])\r\n",
    "        \r\n",
    "        self.dense2 = layers.Dense(units_2, \r\n",
    "                                   activation=activation, \r\n",
    "                                   kernel_initializer=initializer)\r\n",
    "        \r\n",
    "        self.dense3 = layers.Dense(1)\r\n",
    "        \r\n",
    "    def call(self, input_tensor):\r\n",
    "        \r\n",
    "        x = self.dense1(input_tensor)\r\n",
    "        x = self.dense2(x)\r\n",
    "\r\n",
    "        result = self.dense3(x)\r\n",
    "        \r\n",
    "        return result"
   ],
   "outputs": [],
   "metadata": {}
  },
  {
   "cell_type": "code",
   "execution_count": 52,
   "source": [
    "random_uniform_initializer = tf.random_uniform_initializer()\r\n",
    "x = random_uniform_initializer(shape=(4, 8))\r\n",
    "\r\n",
    "print(x)"
   ],
   "outputs": [
    {
     "output_type": "stream",
     "name": "stdout",
     "text": [
      "tf.Tensor(\n",
      "[[-0.02739146  0.02230904  0.02373515  0.00433407  0.004195    0.01779074\n",
      "  -0.04123205  0.03361275]\n",
      " [-0.00187087  0.0088218   0.0280489  -0.01027198  0.00177211  0.04755476\n",
      "  -0.0304274  -0.00344175]\n",
      " [ 0.02045018  0.02082547  0.01673862  0.01720107 -0.0237444   0.01028538\n",
      "   0.02849085  0.00916127]\n",
      " [ 0.03466033 -0.01046687  0.03892244  0.04296258  0.01077034  0.04193809\n",
      "   0.00134441 -0.00184638]], shape=(4, 8), dtype=float32)\n"
     ]
    }
   ],
   "metadata": {}
  },
  {
   "cell_type": "code",
   "execution_count": 53,
   "source": [
    "custom_reg_model = CustomRegressionModel(4, 8, x.shape[-1])\r\n",
    "\r\n",
    "custom_reg_model.layers"
   ],
   "outputs": [
    {
     "output_type": "execute_result",
     "data": {
      "text/plain": [
       "[<keras.layers.core.Dense at 0x231ab71de50>,\n",
       " <keras.layers.core.Dense at 0x231ab67ceb0>,\n",
       " <keras.layers.core.Dense at 0x231ab77f400>]"
      ]
     },
     "metadata": {},
     "execution_count": 53
    }
   ],
   "metadata": {}
  },
  {
   "cell_type": "markdown",
   "source": [
    "#### After writing building the model"
   ],
   "metadata": {}
  },
  {
   "cell_type": "code",
   "execution_count": 54,
   "source": [
    "custom_reg_model(x)"
   ],
   "outputs": [
    {
     "output_type": "execute_result",
     "data": {
      "text/plain": [
       "<tf.Tensor: shape=(4, 1), dtype=float32, numpy=\n",
       "array([[-3.4733824e-04],\n",
       "       [-2.0338164e-04],\n",
       "       [-1.2484599e-04],\n",
       "       [-9.3390190e-05]], dtype=float32)>"
      ]
     },
     "metadata": {},
     "execution_count": 54
    }
   ],
   "metadata": {}
  },
  {
   "cell_type": "code",
   "execution_count": 55,
   "source": [
    "custom_reg_model.summary()"
   ],
   "outputs": [
    {
     "output_type": "stream",
     "name": "stdout",
     "text": [
      "Model: \"custom_regression_model\"\n",
      "_________________________________________________________________\n",
      "Layer (type)                 Output Shape              Param #   \n",
      "=================================================================\n",
      "dense_1 (Dense)              multiple                  72        \n",
      "_________________________________________________________________\n",
      "dense_2 (Dense)              multiple                  72        \n",
      "_________________________________________________________________\n",
      "dense_3 (Dense)              multiple                  9         \n",
      "=================================================================\n",
      "Total params: 153\n",
      "Trainable params: 153\n",
      "Non-trainable params: 0\n",
      "_________________________________________________________________\n"
     ]
    }
   ],
   "metadata": {}
  },
  {
   "cell_type": "code",
   "execution_count": 56,
   "source": [
    "custom_reg_model = CustomRegressionModel(8, 16, x.shape[-1], 'sigmoid', 'zeros')\r\n",
    "\r\n",
    "custom_reg_model.layers"
   ],
   "outputs": [
    {
     "output_type": "execute_result",
     "data": {
      "text/plain": [
       "[<keras.layers.core.Dense at 0x231ab795490>,\n",
       " <keras.layers.core.Dense at 0x231ab795700>,\n",
       " <keras.layers.core.Dense at 0x231ab7aa490>]"
      ]
     },
     "metadata": {},
     "execution_count": 56
    }
   ],
   "metadata": {}
  },
  {
   "cell_type": "code",
   "execution_count": 57,
   "source": [
    "custom_reg_model(x)"
   ],
   "outputs": [
    {
     "output_type": "execute_result",
     "data": {
      "text/plain": [
       "<tf.Tensor: shape=(4, 1), dtype=float32, numpy=\n",
       "array([[1.4079602],\n",
       "       [1.4079602],\n",
       "       [1.4079602],\n",
       "       [1.4079602]], dtype=float32)>"
      ]
     },
     "metadata": {},
     "execution_count": 57
    }
   ],
   "metadata": {}
  },
  {
   "cell_type": "code",
   "execution_count": 58,
   "source": [
    "custom_reg_model.summary()"
   ],
   "outputs": [
    {
     "output_type": "stream",
     "name": "stdout",
     "text": [
      "Model: \"custom_regression_model_1\"\n",
      "_________________________________________________________________\n",
      "Layer (type)                 Output Shape              Param #   \n",
      "=================================================================\n",
      "dense_4 (Dense)              multiple                  144       \n",
      "_________________________________________________________________\n",
      "dense_5 (Dense)              multiple                  136       \n",
      "_________________________________________________________________\n",
      "dense_6 (Dense)              multiple                  9         \n",
      "=================================================================\n",
      "Total params: 289\n",
      "Trainable params: 289\n",
      "Non-trainable params: 0\n",
      "_________________________________________________________________\n"
     ]
    }
   ],
   "metadata": {}
  },
  {
   "cell_type": "code",
   "execution_count": 59,
   "source": [
    "class CustomRegressionModel(tf.keras.Model):\r\n",
    "    \r\n",
    "    def __init__(self, input_shape, layer_units=[8, 4], \\\r\n",
    "                 activation='relu', initializer='random_normal'):\r\n",
    "        \r\n",
    "        super(CustomRegressionModel, self).__init__()\r\n",
    "        # Require at least 1 layer\r\n",
    "        assert len(layer_units) > 0\r\n",
    "\r\n",
    "        self.input_layer = layers.Dense(layer_units[0],\r\n",
    "                                  activation=activation,\r\n",
    "                                  kernel_initializer=initializer,\r\n",
    "                                  input_shape=[input_shape])\r\n",
    "        \r\n",
    "        self.hidden_layers = []\r\n",
    "        \r\n",
    "        for i in range(1, len(layer_units)):\r\n",
    "            self.hidden_layers.append(layers.Dense(layer_units[i],\r\n",
    "                                                   activation=activation, \r\n",
    "                                                   kernel_initializer=initializer))\r\n",
    "\r\n",
    "        self.output_layer = layers.Dense(1)\r\n",
    "        \r\n",
    "    def call(self, input_tensor):\r\n",
    "        \r\n",
    "        x = self.input_layer(input_tensor)\r\n",
    "        # each layer is a column in Kearas functional API                       \r\n",
    "        for layer in self.hidden_layers:\r\n",
    "            x = layer(x)\r\n",
    "\r\n",
    "        result = self.output_layer(x)\r\n",
    "        \r\n",
    "        return result"
   ],
   "outputs": [],
   "metadata": {}
  },
  {
   "cell_type": "code",
   "execution_count": 60,
   "source": [
    "random_uniform_initializer = tf.random_uniform_initializer()\r\n",
    "x = random_uniform_initializer(shape=(4, 8))\r\n",
    "\r\n",
    "print(x)"
   ],
   "outputs": [
    {
     "output_type": "stream",
     "name": "stdout",
     "text": [
      "tf.Tensor(\n",
      "[[ 0.04133475  0.00735665 -0.03252675  0.02906554  0.03318277 -0.02202193\n",
      "  -0.02506842 -0.04360629]\n",
      " [-0.03119146  0.01378686  0.02861753 -0.00833691  0.02656056  0.00608735\n",
      "   0.0299289  -0.02822793]\n",
      " [ 0.03892379  0.04587943  0.04029028 -0.00177898  0.04213593  0.04813529\n",
      "  -0.0096264  -0.04182034]\n",
      " [-0.03331091 -0.04252109  0.00153951  0.00305667 -0.04012184 -0.03287526\n",
      "   0.04288318 -0.04896821]], shape=(4, 8), dtype=float32)\n"
     ]
    }
   ],
   "metadata": {}
  },
  {
   "cell_type": "code",
   "execution_count": 61,
   "source": [
    "custom_reg_model = CustomRegressionModel(x.shape[-1], [8, 16, 32], 'sigmoid')\r\n",
    "\r\n",
    "custom_reg_model.layers"
   ],
   "outputs": [
    {
     "output_type": "execute_result",
     "data": {
      "text/plain": [
       "[<keras.layers.core.Dense at 0x231ab7b76a0>,\n",
       " <keras.layers.core.Dense at 0x231ab7b7790>,\n",
       " <keras.layers.core.Dense at 0x231ab77fc40>,\n",
       " <keras.layers.core.Dense at 0x231ab7aaf70>]"
      ]
     },
     "metadata": {},
     "execution_count": 61
    }
   ],
   "metadata": {}
  },
  {
   "cell_type": "code",
   "execution_count": 62,
   "source": [
    "# initiate forward pass to view summary of network\r\n",
    "custom_reg_model(x)"
   ],
   "outputs": [
    {
     "output_type": "execute_result",
     "data": {
      "text/plain": [
       "<tf.Tensor: shape=(4, 1), dtype=float32, numpy=\n",
       "array([[0.18889518],\n",
       "       [0.1888995 ],\n",
       "       [0.1889014 ],\n",
       "       [0.18890569]], dtype=float32)>"
      ]
     },
     "metadata": {},
     "execution_count": 62
    }
   ],
   "metadata": {}
  },
  {
   "cell_type": "code",
   "execution_count": 63,
   "source": [
    "custom_reg_model.summary()"
   ],
   "outputs": [
    {
     "output_type": "stream",
     "name": "stdout",
     "text": [
      "Model: \"custom_regression_model_2\"\n",
      "_________________________________________________________________\n",
      "Layer (type)                 Output Shape              Param #   \n",
      "=================================================================\n",
      "dense_7 (Dense)              multiple                  72        \n",
      "_________________________________________________________________\n",
      "dense_8 (Dense)              multiple                  144       \n",
      "_________________________________________________________________\n",
      "dense_9 (Dense)              multiple                  544       \n",
      "_________________________________________________________________\n",
      "dense_10 (Dense)             multiple                  33        \n",
      "=================================================================\n",
      "Total params: 793\n",
      "Trainable params: 793\n",
      "Non-trainable params: 0\n",
      "_________________________________________________________________\n"
     ]
    }
   ],
   "metadata": {}
  },
  {
   "cell_type": "code",
   "execution_count": null,
   "source": [],
   "outputs": [],
   "metadata": {}
  },
  {
   "cell_type": "code",
   "execution_count": null,
   "source": [],
   "outputs": [],
   "metadata": {}
  },
  {
   "cell_type": "code",
   "execution_count": null,
   "source": [],
   "outputs": [],
   "metadata": {}
  },
  {
   "cell_type": "code",
   "execution_count": null,
   "source": [],
   "outputs": [],
   "metadata": {}
  },
  {
   "cell_type": "code",
   "execution_count": null,
   "source": [],
   "outputs": [],
   "metadata": {}
  },
  {
   "cell_type": "code",
   "execution_count": null,
   "source": [],
   "outputs": [],
   "metadata": {}
  },
  {
   "cell_type": "code",
   "execution_count": null,
   "source": [],
   "outputs": [],
   "metadata": {}
  },
  {
   "cell_type": "code",
   "execution_count": null,
   "source": [],
   "outputs": [],
   "metadata": {}
  },
  {
   "cell_type": "code",
   "execution_count": null,
   "source": [],
   "outputs": [],
   "metadata": {}
  },
  {
   "cell_type": "code",
   "execution_count": null,
   "source": [],
   "outputs": [],
   "metadata": {}
  },
  {
   "cell_type": "code",
   "execution_count": null,
   "source": [],
   "outputs": [],
   "metadata": {}
  },
  {
   "cell_type": "code",
   "execution_count": null,
   "source": [],
   "outputs": [],
   "metadata": {}
  },
  {
   "cell_type": "code",
   "execution_count": null,
   "source": [],
   "outputs": [],
   "metadata": {}
  },
  {
   "cell_type": "code",
   "execution_count": null,
   "source": [],
   "outputs": [],
   "metadata": {}
  },
  {
   "cell_type": "code",
   "execution_count": null,
   "source": [],
   "outputs": [],
   "metadata": {}
  },
  {
   "cell_type": "code",
   "execution_count": null,
   "source": [],
   "outputs": [],
   "metadata": {}
  },
  {
   "cell_type": "code",
   "execution_count": null,
   "source": [],
   "outputs": [],
   "metadata": {}
  },
  {
   "cell_type": "code",
   "execution_count": null,
   "source": [],
   "outputs": [],
   "metadata": {}
  },
  {
   "cell_type": "code",
   "execution_count": null,
   "source": [],
   "outputs": [],
   "metadata": {}
  },
  {
   "cell_type": "code",
   "execution_count": null,
   "source": [],
   "outputs": [],
   "metadata": {}
  },
  {
   "cell_type": "code",
   "execution_count": null,
   "source": [],
   "outputs": [],
   "metadata": {}
  },
  {
   "cell_type": "code",
   "execution_count": null,
   "source": [],
   "outputs": [],
   "metadata": {}
  },
  {
   "cell_type": "code",
   "execution_count": null,
   "source": [],
   "outputs": [],
   "metadata": {}
  },
  {
   "cell_type": "code",
   "execution_count": null,
   "source": [],
   "outputs": [],
   "metadata": {}
  },
  {
   "cell_type": "code",
   "execution_count": null,
   "source": [],
   "outputs": [],
   "metadata": {}
  },
  {
   "cell_type": "code",
   "execution_count": null,
   "source": [],
   "outputs": [],
   "metadata": {}
  },
  {
   "cell_type": "code",
   "execution_count": null,
   "source": [],
   "outputs": [],
   "metadata": {}
  },
  {
   "cell_type": "code",
   "execution_count": null,
   "source": [],
   "outputs": [],
   "metadata": {}
  },
  {
   "cell_type": "code",
   "execution_count": null,
   "source": [],
   "outputs": [],
   "metadata": {}
  },
  {
   "cell_type": "code",
   "execution_count": null,
   "source": [],
   "outputs": [],
   "metadata": {}
  },
  {
   "cell_type": "code",
   "execution_count": null,
   "source": [],
   "outputs": [],
   "metadata": {}
  },
  {
   "cell_type": "code",
   "execution_count": null,
   "source": [],
   "outputs": [],
   "metadata": {}
  },
  {
   "cell_type": "code",
   "execution_count": null,
   "source": [],
   "outputs": [],
   "metadata": {}
  },
  {
   "cell_type": "code",
   "execution_count": null,
   "source": [],
   "outputs": [],
   "metadata": {}
  },
  {
   "cell_type": "code",
   "execution_count": null,
   "source": [],
   "outputs": [],
   "metadata": {}
  },
  {
   "cell_type": "code",
   "execution_count": null,
   "source": [],
   "outputs": [],
   "metadata": {}
  },
  {
   "cell_type": "code",
   "execution_count": null,
   "source": [],
   "outputs": [],
   "metadata": {}
  },
  {
   "cell_type": "code",
   "execution_count": null,
   "source": [],
   "outputs": [],
   "metadata": {}
  },
  {
   "cell_type": "code",
   "execution_count": null,
   "source": [],
   "outputs": [],
   "metadata": {}
  },
  {
   "cell_type": "code",
   "execution_count": null,
   "source": [],
   "outputs": [],
   "metadata": {}
  },
  {
   "cell_type": "code",
   "execution_count": null,
   "source": [],
   "outputs": [],
   "metadata": {}
  },
  {
   "cell_type": "code",
   "execution_count": null,
   "source": [],
   "outputs": [],
   "metadata": {}
  },
  {
   "cell_type": "code",
   "execution_count": null,
   "source": [],
   "outputs": [],
   "metadata": {}
  },
  {
   "cell_type": "code",
   "execution_count": null,
   "source": [],
   "outputs": [],
   "metadata": {}
  },
  {
   "cell_type": "code",
   "execution_count": null,
   "source": [],
   "outputs": [],
   "metadata": {}
  },
  {
   "cell_type": "code",
   "execution_count": null,
   "source": [],
   "outputs": [],
   "metadata": {}
  },
  {
   "cell_type": "code",
   "execution_count": null,
   "source": [],
   "outputs": [],
   "metadata": {}
  },
  {
   "cell_type": "code",
   "execution_count": null,
   "source": [],
   "outputs": [],
   "metadata": {}
  },
  {
   "cell_type": "code",
   "execution_count": null,
   "source": [],
   "outputs": [],
   "metadata": {}
  },
  {
   "cell_type": "code",
   "execution_count": null,
   "source": [],
   "outputs": [],
   "metadata": {}
  },
  {
   "cell_type": "code",
   "execution_count": null,
   "source": [],
   "outputs": [],
   "metadata": {}
  },
  {
   "cell_type": "code",
   "execution_count": null,
   "source": [],
   "outputs": [],
   "metadata": {}
  },
  {
   "cell_type": "code",
   "execution_count": null,
   "source": [],
   "outputs": [],
   "metadata": {}
  },
  {
   "cell_type": "code",
   "execution_count": null,
   "source": [],
   "outputs": [],
   "metadata": {}
  },
  {
   "cell_type": "code",
   "execution_count": null,
   "source": [],
   "outputs": [],
   "metadata": {}
  },
  {
   "cell_type": "code",
   "execution_count": null,
   "source": [],
   "outputs": [],
   "metadata": {}
  },
  {
   "cell_type": "code",
   "execution_count": null,
   "source": [],
   "outputs": [],
   "metadata": {}
  },
  {
   "cell_type": "code",
   "execution_count": null,
   "source": [],
   "outputs": [],
   "metadata": {}
  },
  {
   "cell_type": "code",
   "execution_count": null,
   "source": [],
   "outputs": [],
   "metadata": {}
  },
  {
   "cell_type": "code",
   "execution_count": null,
   "source": [],
   "outputs": [],
   "metadata": {}
  },
  {
   "cell_type": "code",
   "execution_count": null,
   "source": [],
   "outputs": [],
   "metadata": {}
  },
  {
   "cell_type": "code",
   "execution_count": null,
   "source": [],
   "outputs": [],
   "metadata": {}
  },
  {
   "cell_type": "code",
   "execution_count": null,
   "source": [],
   "outputs": [],
   "metadata": {}
  },
  {
   "cell_type": "code",
   "execution_count": null,
   "source": [],
   "outputs": [],
   "metadata": {}
  },
  {
   "cell_type": "code",
   "execution_count": null,
   "source": [],
   "outputs": [],
   "metadata": {}
  },
  {
   "cell_type": "code",
   "execution_count": null,
   "source": [],
   "outputs": [],
   "metadata": {}
  },
  {
   "cell_type": "code",
   "execution_count": null,
   "source": [],
   "outputs": [],
   "metadata": {}
  },
  {
   "cell_type": "code",
   "execution_count": null,
   "source": [],
   "outputs": [],
   "metadata": {}
  },
  {
   "cell_type": "code",
   "execution_count": null,
   "source": [],
   "outputs": [],
   "metadata": {}
  },
  {
   "cell_type": "code",
   "execution_count": null,
   "source": [],
   "outputs": [],
   "metadata": {}
  },
  {
   "cell_type": "code",
   "execution_count": null,
   "source": [],
   "outputs": [],
   "metadata": {}
  },
  {
   "cell_type": "code",
   "execution_count": null,
   "source": [],
   "outputs": [],
   "metadata": {}
  },
  {
   "cell_type": "code",
   "execution_count": null,
   "source": [],
   "outputs": [],
   "metadata": {}
  },
  {
   "cell_type": "code",
   "execution_count": null,
   "source": [],
   "outputs": [],
   "metadata": {}
  },
  {
   "cell_type": "code",
   "execution_count": null,
   "source": [],
   "outputs": [],
   "metadata": {}
  },
  {
   "cell_type": "code",
   "execution_count": null,
   "source": [],
   "outputs": [],
   "metadata": {}
  },
  {
   "cell_type": "code",
   "execution_count": null,
   "source": [],
   "outputs": [],
   "metadata": {}
  },
  {
   "cell_type": "code",
   "execution_count": null,
   "source": [],
   "outputs": [],
   "metadata": {}
  },
  {
   "cell_type": "code",
   "execution_count": null,
   "source": [],
   "outputs": [],
   "metadata": {}
  },
  {
   "cell_type": "code",
   "execution_count": null,
   "source": [],
   "outputs": [],
   "metadata": {}
  },
  {
   "cell_type": "code",
   "execution_count": null,
   "source": [],
   "outputs": [],
   "metadata": {}
  },
  {
   "cell_type": "code",
   "execution_count": null,
   "source": [],
   "outputs": [],
   "metadata": {}
  },
  {
   "cell_type": "code",
   "execution_count": null,
   "source": [],
   "outputs": [],
   "metadata": {}
  },
  {
   "cell_type": "code",
   "execution_count": null,
   "source": [],
   "outputs": [],
   "metadata": {}
  },
  {
   "cell_type": "code",
   "execution_count": null,
   "source": [],
   "outputs": [],
   "metadata": {}
  },
  {
   "cell_type": "code",
   "execution_count": null,
   "source": [],
   "outputs": [],
   "metadata": {}
  },
  {
   "cell_type": "code",
   "execution_count": null,
   "source": [],
   "outputs": [],
   "metadata": {}
  },
  {
   "cell_type": "code",
   "execution_count": null,
   "source": [],
   "outputs": [],
   "metadata": {}
  },
  {
   "cell_type": "code",
   "execution_count": null,
   "source": [],
   "outputs": [],
   "metadata": {}
  },
  {
   "cell_type": "code",
   "execution_count": null,
   "source": [],
   "outputs": [],
   "metadata": {}
  },
  {
   "cell_type": "code",
   "execution_count": null,
   "source": [],
   "outputs": [],
   "metadata": {}
  },
  {
   "cell_type": "code",
   "execution_count": null,
   "source": [],
   "outputs": [],
   "metadata": {}
  },
  {
   "cell_type": "code",
   "execution_count": null,
   "source": [],
   "outputs": [],
   "metadata": {}
  },
  {
   "cell_type": "code",
   "execution_count": null,
   "source": [],
   "outputs": [],
   "metadata": {}
  },
  {
   "cell_type": "code",
   "execution_count": null,
   "source": [],
   "outputs": [],
   "metadata": {}
  },
  {
   "cell_type": "code",
   "execution_count": null,
   "source": [],
   "outputs": [],
   "metadata": {}
  },
  {
   "cell_type": "code",
   "execution_count": null,
   "source": [],
   "outputs": [],
   "metadata": {}
  },
  {
   "cell_type": "code",
   "execution_count": null,
   "source": [],
   "outputs": [],
   "metadata": {}
  }
 ],
 "metadata": {
  "kernelspec": {
   "name": "python3",
   "display_name": "Python 3.8.8 64-bit ('py38': conda)"
  },
  "language_info": {
   "codemirror_mode": {
    "name": "ipython",
    "version": 3
   },
   "file_extension": ".py",
   "mimetype": "text/x-python",
   "name": "python",
   "nbconvert_exporter": "python",
   "pygments_lexer": "ipython3",
   "version": "3.8.8"
  },
  "interpreter": {
   "hash": "6afc29f19f8b58a000003e3b8f2bf3eec59c4293f8f7a837585d608aa0e0ec45"
  }
 },
 "nbformat": 4,
 "nbformat_minor": 2
}