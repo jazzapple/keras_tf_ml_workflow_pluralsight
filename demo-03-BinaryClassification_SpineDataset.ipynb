{
 "cells": [
  {
   "cell_type": "markdown",
   "source": [
    "# Build a classification model with Keras Functional API\r\n",
    "Functional API is a way to create models that are more flexible than Sequential models. Models can have non-linear topology, shared layers, multiple inputs and outputs"
   ],
   "metadata": {}
  },
  {
   "cell_type": "markdown",
   "source": [
    "### Importing libraraies"
   ],
   "metadata": {}
  },
  {
   "cell_type": "code",
   "execution_count": 1,
   "source": [
    "import os\r\n",
    "import datetime\r\n",
    "\r\n",
    "import pandas as pd\r\n",
    "import numpy as np\r\n",
    "\r\n",
    "import matplotlib.pyplot as plt\r\n",
    "import seaborn as sns\r\n",
    "\r\n",
    "from sklearn.preprocessing import StandardScaler\r\n",
    "from sklearn.metrics import accuracy_score, precision_score, recall_score\r\n",
    "\r\n",
    "import tensorflow as tf\r\n",
    "\r\n",
    "from tensorflow import keras\r\n",
    "from tensorflow.keras import layers\r\n",
    "\r\n",
    "tf.keras.backend.clear_session() # Destroys the current TF graph session and creates a new one - use if using same Python kernel"
   ],
   "outputs": [],
   "metadata": {}
  },
  {
   "cell_type": "markdown",
   "source": [
    "### Loading Dataset\n",
    "\n",
    "#### Lower Back Pain Symptoms Dataset\n",
    "\n",
    "Source: https://www.kaggle.com/sammy123/lower-back-pain-symptoms-dataset"
   ],
   "metadata": {}
  },
  {
   "cell_type": "code",
   "execution_count": 2,
   "source": [
    "spine_data = pd.read_csv('datasets/Dataset_spine.csv', \r\n",
    "                         skiprows=1,\r\n",
    "                         names=['pelvic_incidence',\r\n",
    "                                'pelvic tilt',\r\n",
    "                                'lumbar_lordosis_angle',\r\n",
    "                                'sacral_slope',\r\n",
    "                                'pelvic_radius',\r\n",
    "                                'degree_spondylolisthesis',\r\n",
    "                                'pelvic_slope',\r\n",
    "                                'direct_tilt',\r\n",
    "                                'thoracic_slope',\r\n",
    "                                'cervical_tilt',\r\n",
    "                                'sacrum_angle',\r\n",
    "                                'scoliosis_slope',\r\n",
    "                                'class_att'])\r\n",
    "\r\n",
    "spine_data = spine_data.sample(frac=1).reset_index(drop=True)"
   ],
   "outputs": [],
   "metadata": {}
  },
  {
   "cell_type": "code",
   "execution_count": 3,
   "source": [
    "spine_data.head().T"
   ],
   "outputs": [
    {
     "output_type": "execute_result",
     "data": {
      "text/html": [
       "<div>\n",
       "<style scoped>\n",
       "    .dataframe tbody tr th:only-of-type {\n",
       "        vertical-align: middle;\n",
       "    }\n",
       "\n",
       "    .dataframe tbody tr th {\n",
       "        vertical-align: top;\n",
       "    }\n",
       "\n",
       "    .dataframe thead th {\n",
       "        text-align: right;\n",
       "    }\n",
       "</style>\n",
       "<table border=\"1\" class=\"dataframe\">\n",
       "  <thead>\n",
       "    <tr style=\"text-align: right;\">\n",
       "      <th></th>\n",
       "      <th>0</th>\n",
       "      <th>1</th>\n",
       "      <th>2</th>\n",
       "      <th>3</th>\n",
       "      <th>4</th>\n",
       "    </tr>\n",
       "  </thead>\n",
       "  <tbody>\n",
       "    <tr>\n",
       "      <th>pelvic_incidence</th>\n",
       "      <td>31.484218</td>\n",
       "      <td>53.941658</td>\n",
       "      <td>57.286945</td>\n",
       "      <td>75.437748</td>\n",
       "      <td>46.442078</td>\n",
       "    </tr>\n",
       "    <tr>\n",
       "      <th>pelvic tilt</th>\n",
       "      <td>7.826221</td>\n",
       "      <td>9.306594</td>\n",
       "      <td>15.14935</td>\n",
       "      <td>31.539454</td>\n",
       "      <td>8.395036</td>\n",
       "    </tr>\n",
       "    <tr>\n",
       "      <th>lumbar_lordosis_angle</th>\n",
       "      <td>24.284818</td>\n",
       "      <td>43.100498</td>\n",
       "      <td>64.0</td>\n",
       "      <td>89.6</td>\n",
       "      <td>29.03723</td>\n",
       "    </tr>\n",
       "    <tr>\n",
       "      <th>sacral_slope</th>\n",
       "      <td>23.657997</td>\n",
       "      <td>44.635064</td>\n",
       "      <td>42.137595</td>\n",
       "      <td>43.898294</td>\n",
       "      <td>38.047043</td>\n",
       "    </tr>\n",
       "    <tr>\n",
       "      <th>pelvic_radius</th>\n",
       "      <td>113.833145</td>\n",
       "      <td>124.397821</td>\n",
       "      <td>116.735387</td>\n",
       "      <td>106.82959</td>\n",
       "      <td>115.481405</td>\n",
       "    </tr>\n",
       "    <tr>\n",
       "      <th>degree_spondylolisthesis</th>\n",
       "      <td>4.39308</td>\n",
       "      <td>25.082127</td>\n",
       "      <td>30.341203</td>\n",
       "      <td>54.965789</td>\n",
       "      <td>2.045476</td>\n",
       "    </tr>\n",
       "    <tr>\n",
       "      <th>pelvic_slope</th>\n",
       "      <td>0.713153</td>\n",
       "      <td>0.871551</td>\n",
       "      <td>0.431125</td>\n",
       "      <td>0.030341</td>\n",
       "      <td>0.806911</td>\n",
       "    </tr>\n",
       "    <tr>\n",
       "      <th>direct_tilt</th>\n",
       "      <td>9.7107</td>\n",
       "      <td>17.5525</td>\n",
       "      <td>22.253</td>\n",
       "      <td>8.763</td>\n",
       "      <td>27.8754</td>\n",
       "    </tr>\n",
       "    <tr>\n",
       "      <th>thoracic_slope</th>\n",
       "      <td>8.1003</td>\n",
       "      <td>17.5404</td>\n",
       "      <td>17.6755</td>\n",
       "      <td>11.0399</td>\n",
       "      <td>12.2285</td>\n",
       "    </tr>\n",
       "    <tr>\n",
       "      <th>cervical_tilt</th>\n",
       "      <td>11.85555</td>\n",
       "      <td>16.73581</td>\n",
       "      <td>12.20726</td>\n",
       "      <td>16.74065</td>\n",
       "      <td>9.55731</td>\n",
       "    </tr>\n",
       "    <tr>\n",
       "      <th>sacrum_angle</th>\n",
       "      <td>-26.650369</td>\n",
       "      <td>-17.874616</td>\n",
       "      <td>-21.986137</td>\n",
       "      <td>-22.735586</td>\n",
       "      <td>-22.35809</td>\n",
       "    </tr>\n",
       "    <tr>\n",
       "      <th>scoliosis_slope</th>\n",
       "      <td>12.6599</td>\n",
       "      <td>19.5841</td>\n",
       "      <td>23.1484</td>\n",
       "      <td>43.1209</td>\n",
       "      <td>14.3317</td>\n",
       "    </tr>\n",
       "    <tr>\n",
       "      <th>class_att</th>\n",
       "      <td>Abnormal</td>\n",
       "      <td>Abnormal</td>\n",
       "      <td>Abnormal</td>\n",
       "      <td>Abnormal</td>\n",
       "      <td>Abnormal</td>\n",
       "    </tr>\n",
       "  </tbody>\n",
       "</table>\n",
       "</div>"
      ],
      "text/plain": [
       "                                   0           1           2          3  \\\n",
       "pelvic_incidence           31.484218   53.941658   57.286945  75.437748   \n",
       "pelvic tilt                 7.826221    9.306594    15.14935  31.539454   \n",
       "lumbar_lordosis_angle      24.284818   43.100498        64.0       89.6   \n",
       "sacral_slope               23.657997   44.635064   42.137595  43.898294   \n",
       "pelvic_radius             113.833145  124.397821  116.735387  106.82959   \n",
       "degree_spondylolisthesis     4.39308   25.082127   30.341203  54.965789   \n",
       "pelvic_slope                0.713153    0.871551    0.431125   0.030341   \n",
       "direct_tilt                   9.7107     17.5525      22.253      8.763   \n",
       "thoracic_slope                8.1003     17.5404     17.6755    11.0399   \n",
       "cervical_tilt               11.85555    16.73581    12.20726   16.74065   \n",
       "sacrum_angle              -26.650369  -17.874616  -21.986137 -22.735586   \n",
       "scoliosis_slope              12.6599     19.5841     23.1484    43.1209   \n",
       "class_att                   Abnormal    Abnormal    Abnormal   Abnormal   \n",
       "\n",
       "                                   4  \n",
       "pelvic_incidence           46.442078  \n",
       "pelvic tilt                 8.395036  \n",
       "lumbar_lordosis_angle       29.03723  \n",
       "sacral_slope               38.047043  \n",
       "pelvic_radius             115.481405  \n",
       "degree_spondylolisthesis    2.045476  \n",
       "pelvic_slope                0.806911  \n",
       "direct_tilt                  27.8754  \n",
       "thoracic_slope               12.2285  \n",
       "cervical_tilt                9.55731  \n",
       "sacrum_angle               -22.35809  \n",
       "scoliosis_slope              14.3317  \n",
       "class_att                   Abnormal  "
      ]
     },
     "metadata": {},
     "execution_count": 3
    }
   ],
   "metadata": {}
  },
  {
   "cell_type": "code",
   "execution_count": 4,
   "source": [
    "spine_data.shape"
   ],
   "outputs": [
    {
     "output_type": "execute_result",
     "data": {
      "text/plain": [
       "(310, 13)"
      ]
     },
     "metadata": {},
     "execution_count": 4
    }
   ],
   "metadata": {}
  },
  {
   "cell_type": "code",
   "execution_count": 5,
   "source": [
    "spine_data.columns"
   ],
   "outputs": [
    {
     "output_type": "execute_result",
     "data": {
      "text/plain": [
       "Index(['pelvic_incidence', 'pelvic tilt', 'lumbar_lordosis_angle',\n",
       "       'sacral_slope', 'pelvic_radius', 'degree_spondylolisthesis',\n",
       "       'pelvic_slope', 'direct_tilt', 'thoracic_slope', 'cervical_tilt',\n",
       "       'sacrum_angle', 'scoliosis_slope', 'class_att'],\n",
       "      dtype='object')"
      ]
     },
     "metadata": {},
     "execution_count": 5
    }
   ],
   "metadata": {}
  },
  {
   "cell_type": "code",
   "execution_count": 6,
   "source": [
    "# Target variable\r\n",
    "spine_data['class_att'].unique()"
   ],
   "outputs": [
    {
     "output_type": "execute_result",
     "data": {
      "text/plain": [
       "array(['Abnormal', 'Normal'], dtype=object)"
      ]
     },
     "metadata": {},
     "execution_count": 6
    }
   ],
   "metadata": {}
  },
  {
   "cell_type": "code",
   "execution_count": 7,
   "source": [
    "spine_data.describe().transpose()"
   ],
   "outputs": [
    {
     "output_type": "execute_result",
     "data": {
      "text/html": [
       "<div>\n",
       "<style scoped>\n",
       "    .dataframe tbody tr th:only-of-type {\n",
       "        vertical-align: middle;\n",
       "    }\n",
       "\n",
       "    .dataframe tbody tr th {\n",
       "        vertical-align: top;\n",
       "    }\n",
       "\n",
       "    .dataframe thead th {\n",
       "        text-align: right;\n",
       "    }\n",
       "</style>\n",
       "<table border=\"1\" class=\"dataframe\">\n",
       "  <thead>\n",
       "    <tr style=\"text-align: right;\">\n",
       "      <th></th>\n",
       "      <th>count</th>\n",
       "      <th>mean</th>\n",
       "      <th>std</th>\n",
       "      <th>min</th>\n",
       "      <th>25%</th>\n",
       "      <th>50%</th>\n",
       "      <th>75%</th>\n",
       "      <th>max</th>\n",
       "    </tr>\n",
       "  </thead>\n",
       "  <tbody>\n",
       "    <tr>\n",
       "      <th>pelvic_incidence</th>\n",
       "      <td>310.0</td>\n",
       "      <td>60.496653</td>\n",
       "      <td>17.236520</td>\n",
       "      <td>26.147921</td>\n",
       "      <td>46.430294</td>\n",
       "      <td>58.691038</td>\n",
       "      <td>72.877696</td>\n",
       "      <td>129.834041</td>\n",
       "    </tr>\n",
       "    <tr>\n",
       "      <th>pelvic tilt</th>\n",
       "      <td>310.0</td>\n",
       "      <td>17.542822</td>\n",
       "      <td>10.008330</td>\n",
       "      <td>-6.554948</td>\n",
       "      <td>10.667069</td>\n",
       "      <td>16.357689</td>\n",
       "      <td>22.120395</td>\n",
       "      <td>49.431864</td>\n",
       "    </tr>\n",
       "    <tr>\n",
       "      <th>lumbar_lordosis_angle</th>\n",
       "      <td>310.0</td>\n",
       "      <td>51.930930</td>\n",
       "      <td>18.554064</td>\n",
       "      <td>14.000000</td>\n",
       "      <td>37.000000</td>\n",
       "      <td>49.562398</td>\n",
       "      <td>63.000000</td>\n",
       "      <td>125.742385</td>\n",
       "    </tr>\n",
       "    <tr>\n",
       "      <th>sacral_slope</th>\n",
       "      <td>310.0</td>\n",
       "      <td>42.953831</td>\n",
       "      <td>13.423102</td>\n",
       "      <td>13.366931</td>\n",
       "      <td>33.347122</td>\n",
       "      <td>42.404912</td>\n",
       "      <td>52.695888</td>\n",
       "      <td>121.429566</td>\n",
       "    </tr>\n",
       "    <tr>\n",
       "      <th>pelvic_radius</th>\n",
       "      <td>310.0</td>\n",
       "      <td>117.920655</td>\n",
       "      <td>13.317377</td>\n",
       "      <td>70.082575</td>\n",
       "      <td>110.709196</td>\n",
       "      <td>118.268178</td>\n",
       "      <td>125.467674</td>\n",
       "      <td>163.071041</td>\n",
       "    </tr>\n",
       "    <tr>\n",
       "      <th>degree_spondylolisthesis</th>\n",
       "      <td>310.0</td>\n",
       "      <td>26.296694</td>\n",
       "      <td>37.559027</td>\n",
       "      <td>-11.058179</td>\n",
       "      <td>1.603727</td>\n",
       "      <td>11.767934</td>\n",
       "      <td>41.287352</td>\n",
       "      <td>418.543082</td>\n",
       "    </tr>\n",
       "    <tr>\n",
       "      <th>pelvic_slope</th>\n",
       "      <td>310.0</td>\n",
       "      <td>0.472979</td>\n",
       "      <td>0.285787</td>\n",
       "      <td>0.003220</td>\n",
       "      <td>0.224367</td>\n",
       "      <td>0.475989</td>\n",
       "      <td>0.704846</td>\n",
       "      <td>0.998827</td>\n",
       "    </tr>\n",
       "    <tr>\n",
       "      <th>direct_tilt</th>\n",
       "      <td>310.0</td>\n",
       "      <td>21.321526</td>\n",
       "      <td>8.639423</td>\n",
       "      <td>7.027000</td>\n",
       "      <td>13.054400</td>\n",
       "      <td>21.907150</td>\n",
       "      <td>28.954075</td>\n",
       "      <td>36.743900</td>\n",
       "    </tr>\n",
       "    <tr>\n",
       "      <th>thoracic_slope</th>\n",
       "      <td>310.0</td>\n",
       "      <td>13.064511</td>\n",
       "      <td>3.399713</td>\n",
       "      <td>7.037800</td>\n",
       "      <td>10.417800</td>\n",
       "      <td>12.938450</td>\n",
       "      <td>15.889525</td>\n",
       "      <td>19.324000</td>\n",
       "    </tr>\n",
       "    <tr>\n",
       "      <th>cervical_tilt</th>\n",
       "      <td>310.0</td>\n",
       "      <td>11.933317</td>\n",
       "      <td>2.893265</td>\n",
       "      <td>7.030600</td>\n",
       "      <td>9.541140</td>\n",
       "      <td>11.953835</td>\n",
       "      <td>14.371810</td>\n",
       "      <td>16.821080</td>\n",
       "    </tr>\n",
       "    <tr>\n",
       "      <th>sacrum_angle</th>\n",
       "      <td>310.0</td>\n",
       "      <td>-14.053139</td>\n",
       "      <td>12.225582</td>\n",
       "      <td>-35.287375</td>\n",
       "      <td>-24.289522</td>\n",
       "      <td>-14.622856</td>\n",
       "      <td>-3.497094</td>\n",
       "      <td>6.972071</td>\n",
       "    </tr>\n",
       "    <tr>\n",
       "      <th>scoliosis_slope</th>\n",
       "      <td>310.0</td>\n",
       "      <td>25.645981</td>\n",
       "      <td>10.450558</td>\n",
       "      <td>7.007900</td>\n",
       "      <td>17.189075</td>\n",
       "      <td>24.931950</td>\n",
       "      <td>33.979600</td>\n",
       "      <td>44.341200</td>\n",
       "    </tr>\n",
       "  </tbody>\n",
       "</table>\n",
       "</div>"
      ],
      "text/plain": [
       "                          count        mean        std        min         25%  \\\n",
       "pelvic_incidence          310.0   60.496653  17.236520  26.147921   46.430294   \n",
       "pelvic tilt               310.0   17.542822  10.008330  -6.554948   10.667069   \n",
       "lumbar_lordosis_angle     310.0   51.930930  18.554064  14.000000   37.000000   \n",
       "sacral_slope              310.0   42.953831  13.423102  13.366931   33.347122   \n",
       "pelvic_radius             310.0  117.920655  13.317377  70.082575  110.709196   \n",
       "degree_spondylolisthesis  310.0   26.296694  37.559027 -11.058179    1.603727   \n",
       "pelvic_slope              310.0    0.472979   0.285787   0.003220    0.224367   \n",
       "direct_tilt               310.0   21.321526   8.639423   7.027000   13.054400   \n",
       "thoracic_slope            310.0   13.064511   3.399713   7.037800   10.417800   \n",
       "cervical_tilt             310.0   11.933317   2.893265   7.030600    9.541140   \n",
       "sacrum_angle              310.0  -14.053139  12.225582 -35.287375  -24.289522   \n",
       "scoliosis_slope           310.0   25.645981  10.450558   7.007900   17.189075   \n",
       "\n",
       "                                 50%         75%         max  \n",
       "pelvic_incidence           58.691038   72.877696  129.834041  \n",
       "pelvic tilt                16.357689   22.120395   49.431864  \n",
       "lumbar_lordosis_angle      49.562398   63.000000  125.742385  \n",
       "sacral_slope               42.404912   52.695888  121.429566  \n",
       "pelvic_radius             118.268178  125.467674  163.071041  \n",
       "degree_spondylolisthesis   11.767934   41.287352  418.543082  \n",
       "pelvic_slope                0.475989    0.704846    0.998827  \n",
       "direct_tilt                21.907150   28.954075   36.743900  \n",
       "thoracic_slope             12.938450   15.889525   19.324000  \n",
       "cervical_tilt              11.953835   14.371810   16.821080  \n",
       "sacrum_angle              -14.622856   -3.497094    6.972071  \n",
       "scoliosis_slope            24.931950   33.979600   44.341200  "
      ]
     },
     "metadata": {},
     "execution_count": 7
    }
   ],
   "metadata": {}
  },
  {
   "cell_type": "code",
   "execution_count": 8,
   "source": [
    "plt.figure(figsize=(8, 6))\r\n",
    "\r\n",
    "sns.countplot('class_att', data = spine_data)\r\n",
    "\r\n",
    "plt.xlabel('class_att', fontsize = 20)\r\n",
    "plt.ylabel('count', fontsize = 20)\r\n",
    "\r\n",
    "plt.show()"
   ],
   "outputs": [
    {
     "output_type": "stream",
     "name": "stderr",
     "text": [
      "C:\\Users\\user\\.conda\\envs\\py38\\lib\\site-packages\\seaborn\\_decorators.py:36: FutureWarning: Pass the following variable as a keyword arg: x. From version 0.12, the only valid positional argument will be `data`, and passing other arguments without an explicit keyword will result in an error or misinterpretation.\n",
      "  warnings.warn(\n"
     ]
    },
    {
     "output_type": "display_data",
     "data": {
      "image/png": "[encoded data removed]",
      "text/plain": [
       "<Figure size 576x432 with 1 Axes>"
      ]
     },
     "metadata": {
      "needs_background": "light"
     }
    }
   ],
   "metadata": {}
  },
  {
   "cell_type": "code",
   "execution_count": 9,
   "source": [
    "plt.figure(figsize=(8, 6))\r\n",
    "\r\n",
    "sns.boxplot('class_att', 'pelvic_incidence', data = spine_data)\r\n",
    "\r\n",
    "plt.xlabel('class_att', fontsize = 20)\r\n",
    "plt.ylabel('pelvic_incidence', fontsize = 20)\r\n",
    "\r\n",
    "plt.show()"
   ],
   "outputs": [
    {
     "output_type": "stream",
     "name": "stderr",
     "text": [
      "C:\\Users\\user\\.conda\\envs\\py38\\lib\\site-packages\\seaborn\\_decorators.py:36: FutureWarning: Pass the following variables as keyword args: x, y. From version 0.12, the only valid positional argument will be `data`, and passing other arguments without an explicit keyword will result in an error or misinterpretation.\n",
      "  warnings.warn(\n"
     ]
    },
    {
     "output_type": "display_data",
     "data": {
      "image/png": "[encoded data removed]",
      "text/plain": [
       "<Figure size 576x432 with 1 Axes>"
      ]
     },
     "metadata": {
      "needs_background": "light"
     }
    }
   ],
   "metadata": {}
  },
  {
   "cell_type": "code",
   "execution_count": 10,
   "source": [
    "plt.figure(figsize=(8, 6))\r\n",
    "\r\n",
    "sns.boxplot('class_att', 'lumbar_lordosis_angle', data = spine_data)\r\n",
    "\r\n",
    "plt.xlabel('class_att', fontsize = 20)\r\n",
    "plt.ylabel('lumbar_lordosis_angle', fontsize = 20)\r\n",
    "\r\n",
    "plt.show()"
   ],
   "outputs": [
    {
     "output_type": "stream",
     "name": "stderr",
     "text": [
      "C:\\Users\\user\\.conda\\envs\\py38\\lib\\site-packages\\seaborn\\_decorators.py:36: FutureWarning: Pass the following variables as keyword args: x, y. From version 0.12, the only valid positional argument will be `data`, and passing other arguments without an explicit keyword will result in an error or misinterpretation.\n",
      "  warnings.warn(\n"
     ]
    },
    {
     "output_type": "display_data",
     "data": {
      "image/png": "[encoded data removed]",
      "text/plain": [
       "<Figure size 576x432 with 1 Axes>"
      ]
     },
     "metadata": {
      "needs_background": "light"
     }
    }
   ],
   "metadata": {}
  },
  {
   "cell_type": "code",
   "execution_count": 11,
   "source": [
    "plt.figure(figsize=(8, 6))\r\n",
    "\r\n",
    "sns.boxplot('class_att', 'pelvic_radius', data = spine_data)\r\n",
    "\r\n",
    "plt.xlabel('class_att', fontsize = 20)\r\n",
    "plt.ylabel('pelvic_radius', fontsize = 20)\r\n",
    "\r\n",
    "plt.show()"
   ],
   "outputs": [
    {
     "output_type": "stream",
     "name": "stderr",
     "text": [
      "C:\\Users\\user\\.conda\\envs\\py38\\lib\\site-packages\\seaborn\\_decorators.py:36: FutureWarning: Pass the following variables as keyword args: x, y. From version 0.12, the only valid positional argument will be `data`, and passing other arguments without an explicit keyword will result in an error or misinterpretation.\n",
      "  warnings.warn(\n"
     ]
    },
    {
     "output_type": "display_data",
     "data": {
      "image/png": "[encoded data removed]",
      "text/plain": [
       "<Figure size 576x432 with 1 Axes>"
      ]
     },
     "metadata": {
      "needs_background": "light"
     }
    }
   ],
   "metadata": {}
  },
  {
   "cell_type": "markdown",
   "source": [
    "### Replacing string values with integers in target column"
   ],
   "metadata": {}
  },
  {
   "cell_type": "code",
   "execution_count": 12,
   "source": [
    "class_att = {'Abnormal':0, 'Normal':1}\r\n",
    "\r\n",
    "spine_data['class_att'].replace(class_att, inplace=True)\r\n",
    "\r\n",
    "spine_data[['class_att']].sample(10)"
   ],
   "outputs": [
    {
     "output_type": "execute_result",
     "data": {
      "text/html": [
       "<div>\n",
       "<style scoped>\n",
       "    .dataframe tbody tr th:only-of-type {\n",
       "        vertical-align: middle;\n",
       "    }\n",
       "\n",
       "    .dataframe tbody tr th {\n",
       "        vertical-align: top;\n",
       "    }\n",
       "\n",
       "    .dataframe thead th {\n",
       "        text-align: right;\n",
       "    }\n",
       "</style>\n",
       "<table border=\"1\" class=\"dataframe\">\n",
       "  <thead>\n",
       "    <tr style=\"text-align: right;\">\n",
       "      <th></th>\n",
       "      <th>class_att</th>\n",
       "    </tr>\n",
       "  </thead>\n",
       "  <tbody>\n",
       "    <tr>\n",
       "      <th>211</th>\n",
       "      <td>0</td>\n",
       "    </tr>\n",
       "    <tr>\n",
       "      <th>8</th>\n",
       "      <td>1</td>\n",
       "    </tr>\n",
       "    <tr>\n",
       "      <th>231</th>\n",
       "      <td>0</td>\n",
       "    </tr>\n",
       "    <tr>\n",
       "      <th>35</th>\n",
       "      <td>1</td>\n",
       "    </tr>\n",
       "    <tr>\n",
       "      <th>93</th>\n",
       "      <td>0</td>\n",
       "    </tr>\n",
       "    <tr>\n",
       "      <th>258</th>\n",
       "      <td>0</td>\n",
       "    </tr>\n",
       "    <tr>\n",
       "      <th>131</th>\n",
       "      <td>0</td>\n",
       "    </tr>\n",
       "    <tr>\n",
       "      <th>158</th>\n",
       "      <td>0</td>\n",
       "    </tr>\n",
       "    <tr>\n",
       "      <th>145</th>\n",
       "      <td>1</td>\n",
       "    </tr>\n",
       "    <tr>\n",
       "      <th>69</th>\n",
       "      <td>0</td>\n",
       "    </tr>\n",
       "  </tbody>\n",
       "</table>\n",
       "</div>"
      ],
      "text/plain": [
       "     class_att\n",
       "211          0\n",
       "8            1\n",
       "231          0\n",
       "35           1\n",
       "93           0\n",
       "258          0\n",
       "131          0\n",
       "158          0\n",
       "145          1\n",
       "69           0"
      ]
     },
     "metadata": {},
     "execution_count": 12
    }
   ],
   "metadata": {}
  },
  {
   "cell_type": "markdown",
   "source": [
    "## Split into feature and target data frames"
   ],
   "metadata": {}
  },
  {
   "cell_type": "code",
   "execution_count": 13,
   "source": [
    "features = spine_data.drop('class_att', axis=1)\r\n",
    "\r\n",
    "target = spine_data[['class_att']]"
   ],
   "outputs": [],
   "metadata": {}
  },
  {
   "cell_type": "code",
   "execution_count": 14,
   "source": [
    "features.sample(5).T"
   ],
   "outputs": [
    {
     "output_type": "execute_result",
     "data": {
      "text/html": [
       "<div>\n",
       "<style scoped>\n",
       "    .dataframe tbody tr th:only-of-type {\n",
       "        vertical-align: middle;\n",
       "    }\n",
       "\n",
       "    .dataframe tbody tr th {\n",
       "        vertical-align: top;\n",
       "    }\n",
       "\n",
       "    .dataframe thead th {\n",
       "        text-align: right;\n",
       "    }\n",
       "</style>\n",
       "<table border=\"1\" class=\"dataframe\">\n",
       "  <thead>\n",
       "    <tr style=\"text-align: right;\">\n",
       "      <th></th>\n",
       "      <th>47</th>\n",
       "      <th>153</th>\n",
       "      <th>156</th>\n",
       "      <th>43</th>\n",
       "      <th>272</th>\n",
       "    </tr>\n",
       "  </thead>\n",
       "  <tbody>\n",
       "    <tr>\n",
       "      <th>pelvic_incidence</th>\n",
       "      <td>42.021386</td>\n",
       "      <td>58.828379</td>\n",
       "      <td>60.419932</td>\n",
       "      <td>75.649731</td>\n",
       "      <td>63.027817</td>\n",
       "    </tr>\n",
       "    <tr>\n",
       "      <th>pelvic tilt</th>\n",
       "      <td>-6.554948</td>\n",
       "      <td>37.577873</td>\n",
       "      <td>5.265665</td>\n",
       "      <td>19.339799</td>\n",
       "      <td>22.552586</td>\n",
       "    </tr>\n",
       "    <tr>\n",
       "      <th>lumbar_lordosis_angle</th>\n",
       "      <td>67.900000</td>\n",
       "      <td>125.742385</td>\n",
       "      <td>59.814236</td>\n",
       "      <td>64.148685</td>\n",
       "      <td>39.609117</td>\n",
       "    </tr>\n",
       "    <tr>\n",
       "      <th>sacral_slope</th>\n",
       "      <td>48.576334</td>\n",
       "      <td>21.250506</td>\n",
       "      <td>55.154267</td>\n",
       "      <td>56.309932</td>\n",
       "      <td>40.475232</td>\n",
       "    </tr>\n",
       "    <tr>\n",
       "      <th>pelvic_radius</th>\n",
       "      <td>111.585782</td>\n",
       "      <td>135.629418</td>\n",
       "      <td>109.033074</td>\n",
       "      <td>95.903629</td>\n",
       "      <td>98.672917</td>\n",
       "    </tr>\n",
       "    <tr>\n",
       "      <th>degree_spondylolisthesis</th>\n",
       "      <td>27.338671</td>\n",
       "      <td>117.314683</td>\n",
       "      <td>30.265785</td>\n",
       "      <td>69.551303</td>\n",
       "      <td>-0.254400</td>\n",
       "    </tr>\n",
       "    <tr>\n",
       "      <th>pelvic_slope</th>\n",
       "      <td>0.986272</td>\n",
       "      <td>0.751482</td>\n",
       "      <td>0.916505</td>\n",
       "      <td>0.687092</td>\n",
       "      <td>0.744503</td>\n",
       "    </tr>\n",
       "    <tr>\n",
       "      <th>direct_tilt</th>\n",
       "      <td>15.636500</td>\n",
       "      <td>12.657600</td>\n",
       "      <td>35.031000</td>\n",
       "      <td>24.100400</td>\n",
       "      <td>12.566100</td>\n",
       "    </tr>\n",
       "    <tr>\n",
       "      <th>thoracic_slope</th>\n",
       "      <td>10.850400</td>\n",
       "      <td>15.938100</td>\n",
       "      <td>18.243700</td>\n",
       "      <td>13.344400</td>\n",
       "      <td>14.538600</td>\n",
       "    </tr>\n",
       "    <tr>\n",
       "      <th>cervical_tilt</th>\n",
       "      <td>16.201340</td>\n",
       "      <td>15.239200</td>\n",
       "      <td>11.953700</td>\n",
       "      <td>15.756020</td>\n",
       "      <td>15.304680</td>\n",
       "    </tr>\n",
       "    <tr>\n",
       "      <th>sacrum_angle</th>\n",
       "      <td>0.043299</td>\n",
       "      <td>-15.444826</td>\n",
       "      <td>-1.304670</td>\n",
       "      <td>-0.550516</td>\n",
       "      <td>-28.658501</td>\n",
       "    </tr>\n",
       "    <tr>\n",
       "      <th>scoliosis_slope</th>\n",
       "      <td>20.652900</td>\n",
       "      <td>7.215700</td>\n",
       "      <td>34.243700</td>\n",
       "      <td>18.291500</td>\n",
       "      <td>43.512300</td>\n",
       "    </tr>\n",
       "  </tbody>\n",
       "</table>\n",
       "</div>"
      ],
      "text/plain": [
       "                                 47          153         156        43   \\\n",
       "pelvic_incidence           42.021386   58.828379   60.419932  75.649731   \n",
       "pelvic tilt                -6.554948   37.577873    5.265665  19.339799   \n",
       "lumbar_lordosis_angle      67.900000  125.742385   59.814236  64.148685   \n",
       "sacral_slope               48.576334   21.250506   55.154267  56.309932   \n",
       "pelvic_radius             111.585782  135.629418  109.033074  95.903629   \n",
       "degree_spondylolisthesis   27.338671  117.314683   30.265785  69.551303   \n",
       "pelvic_slope                0.986272    0.751482    0.916505   0.687092   \n",
       "direct_tilt                15.636500   12.657600   35.031000  24.100400   \n",
       "thoracic_slope             10.850400   15.938100   18.243700  13.344400   \n",
       "cervical_tilt              16.201340   15.239200   11.953700  15.756020   \n",
       "sacrum_angle                0.043299  -15.444826   -1.304670  -0.550516   \n",
       "scoliosis_slope            20.652900    7.215700   34.243700  18.291500   \n",
       "\n",
       "                                272  \n",
       "pelvic_incidence          63.027817  \n",
       "pelvic tilt               22.552586  \n",
       "lumbar_lordosis_angle     39.609117  \n",
       "sacral_slope              40.475232  \n",
       "pelvic_radius             98.672917  \n",
       "degree_spondylolisthesis  -0.254400  \n",
       "pelvic_slope               0.744503  \n",
       "direct_tilt               12.566100  \n",
       "thoracic_slope            14.538600  \n",
       "cervical_tilt             15.304680  \n",
       "sacrum_angle             -28.658501  \n",
       "scoliosis_slope           43.512300  "
      ]
     },
     "metadata": {},
     "execution_count": 14
    }
   ],
   "metadata": {}
  },
  {
   "cell_type": "code",
   "execution_count": 15,
   "source": [
    "target.sample(5)"
   ],
   "outputs": [
    {
     "output_type": "execute_result",
     "data": {
      "text/html": [
       "<div>\n",
       "<style scoped>\n",
       "    .dataframe tbody tr th:only-of-type {\n",
       "        vertical-align: middle;\n",
       "    }\n",
       "\n",
       "    .dataframe tbody tr th {\n",
       "        vertical-align: top;\n",
       "    }\n",
       "\n",
       "    .dataframe thead th {\n",
       "        text-align: right;\n",
       "    }\n",
       "</style>\n",
       "<table border=\"1\" class=\"dataframe\">\n",
       "  <thead>\n",
       "    <tr style=\"text-align: right;\">\n",
       "      <th></th>\n",
       "      <th>class_att</th>\n",
       "    </tr>\n",
       "  </thead>\n",
       "  <tbody>\n",
       "    <tr>\n",
       "      <th>166</th>\n",
       "      <td>1</td>\n",
       "    </tr>\n",
       "    <tr>\n",
       "      <th>143</th>\n",
       "      <td>0</td>\n",
       "    </tr>\n",
       "    <tr>\n",
       "      <th>95</th>\n",
       "      <td>1</td>\n",
       "    </tr>\n",
       "    <tr>\n",
       "      <th>177</th>\n",
       "      <td>0</td>\n",
       "    </tr>\n",
       "    <tr>\n",
       "      <th>35</th>\n",
       "      <td>1</td>\n",
       "    </tr>\n",
       "  </tbody>\n",
       "</table>\n",
       "</div>"
      ],
      "text/plain": [
       "     class_att\n",
       "166          1\n",
       "143          0\n",
       "95           1\n",
       "177          0\n",
       "35           1"
      ]
     },
     "metadata": {},
     "execution_count": 15
    }
   ],
   "metadata": {}
  },
  {
   "cell_type": "markdown",
   "source": [
    "## Standardise numeric variables"
   ],
   "metadata": {}
  },
  {
   "cell_type": "code",
   "execution_count": 16,
   "source": [
    "standardScaler = StandardScaler()\r\n",
    "\r\n",
    "scaled_features = pd.DataFrame(standardScaler.fit_transform(features), \r\n",
    "                               columns=features.columns,\r\n",
    "                               index=features.index)\r\n",
    "\r\n",
    "scaled_features.describe().T"
   ],
   "outputs": [
    {
     "output_type": "execute_result",
     "data": {
      "text/html": [
       "<div>\n",
       "<style scoped>\n",
       "    .dataframe tbody tr th:only-of-type {\n",
       "        vertical-align: middle;\n",
       "    }\n",
       "\n",
       "    .dataframe tbody tr th {\n",
       "        vertical-align: top;\n",
       "    }\n",
       "\n",
       "    .dataframe thead th {\n",
       "        text-align: right;\n",
       "    }\n",
       "</style>\n",
       "<table border=\"1\" class=\"dataframe\">\n",
       "  <thead>\n",
       "    <tr style=\"text-align: right;\">\n",
       "      <th></th>\n",
       "      <th>count</th>\n",
       "      <th>mean</th>\n",
       "      <th>std</th>\n",
       "      <th>min</th>\n",
       "      <th>25%</th>\n",
       "      <th>50%</th>\n",
       "      <th>75%</th>\n",
       "      <th>max</th>\n",
       "    </tr>\n",
       "  </thead>\n",
       "  <tbody>\n",
       "    <tr>\n",
       "      <th>pelvic_incidence</th>\n",
       "      <td>310.0</td>\n",
       "      <td>-9.213060e-17</td>\n",
       "      <td>1.001617</td>\n",
       "      <td>-1.996010</td>\n",
       "      <td>-0.817398</td>\n",
       "      <td>-0.104925</td>\n",
       "      <td>0.719464</td>\n",
       "      <td>4.029206</td>\n",
       "    </tr>\n",
       "    <tr>\n",
       "      <th>pelvic tilt</th>\n",
       "      <td>310.0</td>\n",
       "      <td>2.075848e-16</td>\n",
       "      <td>1.001617</td>\n",
       "      <td>-2.411664</td>\n",
       "      <td>-0.688114</td>\n",
       "      <td>-0.118606</td>\n",
       "      <td>0.458116</td>\n",
       "      <td>3.191402</td>\n",
       "    </tr>\n",
       "    <tr>\n",
       "      <th>lumbar_lordosis_angle</th>\n",
       "      <td>310.0</td>\n",
       "      <td>1.534615e-16</td>\n",
       "      <td>1.001617</td>\n",
       "      <td>-2.047652</td>\n",
       "      <td>-0.806027</td>\n",
       "      <td>-0.127862</td>\n",
       "      <td>0.597549</td>\n",
       "      <td>3.984615</td>\n",
       "    </tr>\n",
       "    <tr>\n",
       "      <th>sacral_slope</th>\n",
       "      <td>310.0</td>\n",
       "      <td>-1.197071e-16</td>\n",
       "      <td>1.001617</td>\n",
       "      <td>-2.207741</td>\n",
       "      <td>-0.716842</td>\n",
       "      <td>-0.040960</td>\n",
       "      <td>0.726941</td>\n",
       "      <td>5.855771</td>\n",
       "    </tr>\n",
       "    <tr>\n",
       "      <th>pelvic_radius</th>\n",
       "      <td>310.0</td>\n",
       "      <td>3.898315e-16</td>\n",
       "      <td>1.001617</td>\n",
       "      <td>-3.597963</td>\n",
       "      <td>-0.542383</td>\n",
       "      <td>0.026138</td>\n",
       "      <td>0.567621</td>\n",
       "      <td>3.395818</td>\n",
       "    </tr>\n",
       "    <tr>\n",
       "      <th>degree_spondylolisthesis</th>\n",
       "      <td>310.0</td>\n",
       "      <td>1.790682e-18</td>\n",
       "      <td>1.001617</td>\n",
       "      <td>-0.996172</td>\n",
       "      <td>-0.658507</td>\n",
       "      <td>-0.387450</td>\n",
       "      <td>0.399768</td>\n",
       "      <td>10.460350</td>\n",
       "    </tr>\n",
       "    <tr>\n",
       "      <th>pelvic_slope</th>\n",
       "      <td>310.0</td>\n",
       "      <td>6.267388e-17</td>\n",
       "      <td>1.001617</td>\n",
       "      <td>-1.646397</td>\n",
       "      <td>-0.871329</td>\n",
       "      <td>0.010547</td>\n",
       "      <td>0.812640</td>\n",
       "      <td>1.842974</td>\n",
       "    </tr>\n",
       "    <tr>\n",
       "      <th>direct_tilt</th>\n",
       "      <td>310.0</td>\n",
       "      <td>1.070828e-16</td>\n",
       "      <td>1.001617</td>\n",
       "      <td>-1.657245</td>\n",
       "      <td>-0.958454</td>\n",
       "      <td>0.067895</td>\n",
       "      <td>0.884884</td>\n",
       "      <td>1.788002</td>\n",
       "    </tr>\n",
       "    <tr>\n",
       "      <th>thoracic_slope</th>\n",
       "      <td>310.0</td>\n",
       "      <td>2.019890e-16</td>\n",
       "      <td>1.001617</td>\n",
       "      <td>-1.775578</td>\n",
       "      <td>-0.779769</td>\n",
       "      <td>-0.037140</td>\n",
       "      <td>0.832300</td>\n",
       "      <td>1.844158</td>\n",
       "    </tr>\n",
       "    <tr>\n",
       "      <th>cervical_tilt</th>\n",
       "      <td>310.0</td>\n",
       "      <td>-4.419404e-16</td>\n",
       "      <td>1.001617</td>\n",
       "      <td>-1.697267</td>\n",
       "      <td>-0.828145</td>\n",
       "      <td>0.007103</td>\n",
       "      <td>0.844180</td>\n",
       "      <td>1.692090</td>\n",
       "    </tr>\n",
       "    <tr>\n",
       "      <th>sacrum_angle</th>\n",
       "      <td>310.0</td>\n",
       "      <td>-7.449238e-17</td>\n",
       "      <td>1.001617</td>\n",
       "      <td>-1.739677</td>\n",
       "      <td>-0.838646</td>\n",
       "      <td>-0.046676</td>\n",
       "      <td>0.864835</td>\n",
       "      <td>1.722552</td>\n",
       "    </tr>\n",
       "    <tr>\n",
       "      <th>scoliosis_slope</th>\n",
       "      <td>310.0</td>\n",
       "      <td>2.293416e-16</td>\n",
       "      <td>1.001617</td>\n",
       "      <td>-1.786337</td>\n",
       "      <td>-0.810538</td>\n",
       "      <td>-0.068435</td>\n",
       "      <td>0.798722</td>\n",
       "      <td>1.791813</td>\n",
       "    </tr>\n",
       "  </tbody>\n",
       "</table>\n",
       "</div>"
      ],
      "text/plain": [
       "                          count          mean       std       min       25%  \\\n",
       "pelvic_incidence          310.0 -9.213060e-17  1.001617 -1.996010 -0.817398   \n",
       "pelvic tilt               310.0  2.075848e-16  1.001617 -2.411664 -0.688114   \n",
       "lumbar_lordosis_angle     310.0  1.534615e-16  1.001617 -2.047652 -0.806027   \n",
       "sacral_slope              310.0 -1.197071e-16  1.001617 -2.207741 -0.716842   \n",
       "pelvic_radius             310.0  3.898315e-16  1.001617 -3.597963 -0.542383   \n",
       "degree_spondylolisthesis  310.0  1.790682e-18  1.001617 -0.996172 -0.658507   \n",
       "pelvic_slope              310.0  6.267388e-17  1.001617 -1.646397 -0.871329   \n",
       "direct_tilt               310.0  1.070828e-16  1.001617 -1.657245 -0.958454   \n",
       "thoracic_slope            310.0  2.019890e-16  1.001617 -1.775578 -0.779769   \n",
       "cervical_tilt             310.0 -4.419404e-16  1.001617 -1.697267 -0.828145   \n",
       "sacrum_angle              310.0 -7.449238e-17  1.001617 -1.739677 -0.838646   \n",
       "scoliosis_slope           310.0  2.293416e-16  1.001617 -1.786337 -0.810538   \n",
       "\n",
       "                               50%       75%        max  \n",
       "pelvic_incidence         -0.104925  0.719464   4.029206  \n",
       "pelvic tilt              -0.118606  0.458116   3.191402  \n",
       "lumbar_lordosis_angle    -0.127862  0.597549   3.984615  \n",
       "sacral_slope             -0.040960  0.726941   5.855771  \n",
       "pelvic_radius             0.026138  0.567621   3.395818  \n",
       "degree_spondylolisthesis -0.387450  0.399768  10.460350  \n",
       "pelvic_slope              0.010547  0.812640   1.842974  \n",
       "direct_tilt               0.067895  0.884884   1.788002  \n",
       "thoracic_slope           -0.037140  0.832300   1.844158  \n",
       "cervical_tilt             0.007103  0.844180   1.692090  \n",
       "sacrum_angle             -0.046676  0.864835   1.722552  \n",
       "scoliosis_slope          -0.068435  0.798722   1.791813  "
      ]
     },
     "metadata": {},
     "execution_count": 16
    }
   ],
   "metadata": {}
  },
  {
   "cell_type": "code",
   "execution_count": 17,
   "source": [
    "scaled_features.shape"
   ],
   "outputs": [
    {
     "output_type": "execute_result",
     "data": {
      "text/plain": [
       "(310, 12)"
      ]
     },
     "metadata": {},
     "execution_count": 17
    }
   ],
   "metadata": {}
  },
  {
   "cell_type": "markdown",
   "source": [
    "### Splitting dataset into training and testing"
   ],
   "metadata": {}
  },
  {
   "cell_type": "code",
   "execution_count": 18,
   "source": [
    "from sklearn.model_selection import train_test_split\r\n",
    "\r\n",
    "x_train, x_test, y_train, y_test = train_test_split(scaled_features, \r\n",
    "                                                    target, \r\n",
    "                                                    test_size=0.15,\r\n",
    "                                                    random_state=10)"
   ],
   "outputs": [],
   "metadata": {}
  },
  {
   "cell_type": "code",
   "execution_count": 19,
   "source": [
    "x_train.shape, x_test.shape"
   ],
   "outputs": [
    {
     "output_type": "execute_result",
     "data": {
      "text/plain": [
       "((263, 12), (47, 12))"
      ]
     },
     "metadata": {},
     "execution_count": 19
    }
   ],
   "metadata": {}
  },
  {
   "cell_type": "markdown",
   "source": [
    "Further split the training data to create a validation set"
   ],
   "metadata": {}
  },
  {
   "cell_type": "code",
   "execution_count": 20,
   "source": [
    "x_train, x_val, y_train, y_val = train_test_split(x_train, \r\n",
    "                                                  y_train, \r\n",
    "                                                  test_size=0.15,\r\n",
    "                                                  random_state=10)"
   ],
   "outputs": [],
   "metadata": {}
  },
  {
   "cell_type": "code",
   "execution_count": 21,
   "source": [
    "x_train.shape, x_val.shape, x_test.shape"
   ],
   "outputs": [
    {
     "output_type": "execute_result",
     "data": {
      "text/plain": [
       "((223, 12), (40, 12), (47, 12))"
      ]
     },
     "metadata": {},
     "execution_count": 21
    }
   ],
   "metadata": {}
  },
  {
   "cell_type": "code",
   "execution_count": 22,
   "source": [
    "y_train.shape, y_val.shape, y_test.shape"
   ],
   "outputs": [
    {
     "output_type": "execute_result",
     "data": {
      "text/plain": [
       "((223, 1), (40, 1), (47, 1))"
      ]
     },
     "metadata": {},
     "execution_count": 22
    }
   ],
   "metadata": {}
  },
  {
   "cell_type": "markdown",
   "source": [
    "### Building model"
   ],
   "metadata": {}
  },
  {
   "cell_type": "code",
   "execution_count": 23,
   "source": [
    "def build_and_compile_model():\r\n",
    "    \r\n",
    "    inputs = tf.keras.Input(shape=(x_train.shape[1],)) # define input layer\r\n",
    "\r\n",
    "     # every layer instance is a callable. Accepts inputs and returns a tensor\r\n",
    "    x = layers.Dense(16, activation='relu')(inputs) # fully connected layer\r\n",
    "\r\n",
    "    x = layers.Dropout(0.3)(x)\r\n",
    "\r\n",
    "    x = layers.Dense(8, activation='relu')(x)\r\n",
    "\r\n",
    "    predictions = layers.Dense(1, activation='sigmoid')(x) # final layer with 1 neuron with probability\r\n",
    "    \r\n",
    "    # instantiate model\r\n",
    "    model = tf.keras.Model(inputs=inputs, outputs=predictions)\r\n",
    "    \r\n",
    "    model.summary()\r\n",
    "    \r\n",
    "    model.compile(optimizer=tf.keras.optimizers.RMSprop(0.001), # adaptive learning optimizer. learning rate 0.001\r\n",
    "              loss=tf.keras.losses.BinaryCrossentropy(), # appropriate loss function for binary classification\r\n",
    "              metrics=['accuracy', \r\n",
    "                       tf.keras.metrics.Precision(0.5), # 0.5 probability threshold\r\n",
    "                       tf.keras.metrics.Recall(0.5),])\r\n",
    "    return model"
   ],
   "outputs": [],
   "metadata": {}
  },
  {
   "cell_type": "code",
   "execution_count": 24,
   "source": [
    "model = build_and_compile_model()"
   ],
   "outputs": [
    {
     "output_type": "stream",
     "name": "stdout",
     "text": [
      "Model: \"model\"\n",
      "_________________________________________________________________\n",
      "Layer (type)                 Output Shape              Param #   \n",
      "=================================================================\n",
      "input_1 (InputLayer)         [(None, 12)]              0         \n",
      "_________________________________________________________________\n",
      "dense (Dense)                (None, 16)                208       \n",
      "_________________________________________________________________\n",
      "dropout (Dropout)            (None, 16)                0         \n",
      "_________________________________________________________________\n",
      "dense_1 (Dense)              (None, 8)                 136       \n",
      "_________________________________________________________________\n",
      "dense_2 (Dense)              (None, 1)                 9         \n",
      "=================================================================\n",
      "Total params: 353\n",
      "Trainable params: 353\n",
      "Non-trainable params: 0\n",
      "_________________________________________________________________\n"
     ]
    }
   ],
   "metadata": {}
  },
  {
   "cell_type": "code",
   "execution_count": 25,
   "source": [
    "keras.utils.plot_model(model, 'model_classification_shapes.png', show_shapes=True)"
   ],
   "outputs": [
    {
     "output_type": "execute_result",
     "data": {
      "image/png": "[encoded data removed]",
      "text/plain": [
       "<IPython.core.display.Image object>"
      ]
     },
     "metadata": {},
     "execution_count": 25
    }
   ],
   "metadata": {}
  },
  {
   "cell_type": "markdown",
   "source": [
    "## Convert datasets to tf.data.Dataset format - suitable for large data sets (enables distributed training processes)"
   ],
   "metadata": {}
  },
  {
   "cell_type": "code",
   "execution_count": 26,
   "source": [
    "dataset_train = tf.data.Dataset.from_tensor_slices((x_train.values, y_train.values))\r\n",
    "dataset_train = dataset_train.batch(16) # batch size 16 records\r\n",
    "\r\n",
    "dataset_train.shuffle(128) # shuffle training data with buffer size 128"
   ],
   "outputs": [
    {
     "output_type": "execute_result",
     "data": {
      "text/plain": [
       "<ShuffleDataset shapes: ((None, 12), (None, 1)), types: (tf.float64, tf.int64)>"
      ]
     },
     "metadata": {},
     "execution_count": 26
    }
   ],
   "metadata": {}
  },
  {
   "cell_type": "code",
   "execution_count": 27,
   "source": [
    "num_epochs = 10"
   ],
   "outputs": [],
   "metadata": {}
  },
  {
   "cell_type": "code",
   "execution_count": 28,
   "source": [
    "model.fit(dataset_train, epochs=num_epochs)"
   ],
   "outputs": [
    {
     "output_type": "stream",
     "name": "stdout",
     "text": [
      "Epoch 1/10\n",
      "14/14 [==============================] - 1s 2ms/step - loss: 0.7677 - accuracy: 0.5426 - precision: 0.3191 - recall: 0.4412\n",
      "Epoch 2/10\n",
      "14/14 [==============================] - 0s 2ms/step - loss: 0.7037 - accuracy: 0.5426 - precision: 0.2763 - recall: 0.3088    \n",
      "Epoch 3/10\n",
      "14/14 [==============================] - 0s 2ms/step - loss: 0.6821 - accuracy: 0.5695 - precision: 0.2667 - recall: 0.2353    \n",
      "Epoch 4/10\n",
      "14/14 [==============================] - 0s 3ms/step - loss: 0.6635 - accuracy: 0.5830 - precision: 0.2807 - recall: 0.2353\n",
      "Epoch 5/10\n",
      "14/14 [==============================] - 0s 2ms/step - loss: 0.6408 - accuracy: 0.6188 - precision: 0.3191 - recall: 0.2206    \n",
      "Epoch 6/10\n",
      "14/14 [==============================] - 0s 2ms/step - loss: 0.6064 - accuracy: 0.6278 - precision: 0.3077 - recall: 0.1765    \n",
      "Epoch 7/10\n",
      "14/14 [==============================] - 0s 2ms/step - loss: 0.5725 - accuracy: 0.6592 - precision: 0.3824 - recall: 0.1912    \n",
      "Epoch 8/10\n",
      "14/14 [==============================] - 0s 2ms/step - loss: 0.5715 - accuracy: 0.6726 - precision: 0.4138 - recall: 0.1765\n",
      "Epoch 9/10\n",
      "14/14 [==============================] - 0s 2ms/step - loss: 0.5550 - accuracy: 0.7040 - precision: 0.5385 - recall: 0.2059    \n",
      "Epoch 10/10\n",
      "14/14 [==============================] - 0s 3ms/step - loss: 0.5548 - accuracy: 0.6996 - precision: 0.5152 - recall: 0.2500    \n"
     ]
    },
    {
     "output_type": "execute_result",
     "data": {
      "text/plain": [
       "<keras.callbacks.History at 0x243e91c1e20>"
      ]
     },
     "metadata": {},
     "execution_count": 28
    }
   ],
   "metadata": {}
  },
  {
   "cell_type": "code",
   "execution_count": 29,
   "source": [
    "# convert validation set to tf.data.Dataset format\r\n",
    "dataset_val = tf.data.Dataset.from_tensor_slices((x_val.values, y_val.values))\r\n",
    "dataset_val = dataset_val.batch(16)"
   ],
   "outputs": [],
   "metadata": {}
  },
  {
   "cell_type": "markdown",
   "source": [
    "Train model agamin but this mtime provide validation_data param with validation data set"
   ],
   "metadata": {}
  },
  {
   "cell_type": "code",
   "execution_count": 30,
   "source": [
    "model = build_and_compile_model()\r\n",
    "\r\n",
    "training_history = model.fit(dataset_train, epochs=num_epochs, validation_data=dataset_val)"
   ],
   "outputs": [
    {
     "output_type": "stream",
     "name": "stdout",
     "text": [
      "Model: \"model_1\"\n",
      "_________________________________________________________________\n",
      "Layer (type)                 Output Shape              Param #   \n",
      "=================================================================\n",
      "input_2 (InputLayer)         [(None, 12)]              0         \n",
      "_________________________________________________________________\n",
      "dense_3 (Dense)              (None, 16)                208       \n",
      "_________________________________________________________________\n",
      "dropout_1 (Dropout)          (None, 16)                0         \n",
      "_________________________________________________________________\n",
      "dense_4 (Dense)              (None, 8)                 136       \n",
      "_________________________________________________________________\n",
      "dense_5 (Dense)              (None, 1)                 9         \n",
      "=================================================================\n",
      "Total params: 353\n",
      "Trainable params: 353\n",
      "Non-trainable params: 0\n",
      "_________________________________________________________________\n",
      "Epoch 1/10\n",
      "14/14 [==============================] - 1s 28ms/step - loss: 0.7800 - accuracy: 0.5022 - precision_1: 0.2737 - recall_1: 0.3824 - val_loss: 0.6784 - val_accuracy: 0.6250 - val_precision_1: 0.4762 - val_recall_1: 0.7143\n",
      "Epoch 2/10\n",
      "14/14 [==============================] - 0s 4ms/step - loss: 0.6731 - accuracy: 0.5516 - precision_1: 0.2949 - recall_1: 0.3382 - val_loss: 0.6329 - val_accuracy: 0.6750 - val_precision_1: 0.5333 - val_recall_1: 0.5714\n",
      "Epoch 3/10\n",
      "14/14 [==============================] - 0s 4ms/step - loss: 0.6389 - accuracy: 0.6323 - precision_1: 0.3704 - recall_1: 0.2941 - val_loss: 0.5946 - val_accuracy: 0.7250 - val_precision_1: 0.6154 - val_recall_1: 0.5714\n",
      "Epoch 4/10\n",
      "14/14 [==============================] - 0s 3ms/step - loss: 0.6075 - accuracy: 0.6278 - precision_1: 0.2857 - recall_1: 0.1471 - val_loss: 0.5679 - val_accuracy: 0.7500 - val_precision_1: 0.6667 - val_recall_1: 0.5714\n",
      "Epoch 5/10\n",
      "14/14 [==============================] - 0s 6ms/step - loss: 0.5643 - accuracy: 0.6771 - precision_1: 0.4375 - recall_1: 0.2059 - val_loss: 0.5489 - val_accuracy: 0.7750 - val_precision_1: 0.8571 - val_recall_1: 0.4286\n",
      "Epoch 6/10\n",
      "14/14 [==============================] - 0s 2ms/step - loss: 0.5576 - accuracy: 0.6996 - precision_1: 0.5161 - recall_1: 0.2353 - val_loss: 0.5334 - val_accuracy: 0.7500 - val_precision_1: 0.7500 - val_recall_1: 0.4286\n",
      "Epoch 7/10\n",
      "14/14 [==============================] - 0s 3ms/step - loss: 0.5121 - accuracy: 0.7220 - precision_1: 0.7143 - recall_1: 0.1471 - val_loss: 0.5209 - val_accuracy: 0.7500 - val_precision_1: 0.7500 - val_recall_1: 0.4286\n",
      "Epoch 8/10\n",
      "14/14 [==============================] - 0s 2ms/step - loss: 0.5345 - accuracy: 0.6996 - precision_1: 0.5172 - recall_1: 0.2206 - val_loss: 0.5067 - val_accuracy: 0.7500 - val_precision_1: 0.7500 - val_recall_1: 0.4286\n",
      "Epoch 9/10\n",
      "14/14 [==============================] - 0s 3ms/step - loss: 0.5065 - accuracy: 0.7265 - precision_1: 0.6296 - recall_1: 0.2500 - val_loss: 0.4976 - val_accuracy: 0.7750 - val_precision_1: 0.7778 - val_recall_1: 0.5000\n",
      "Epoch 10/10\n",
      "14/14 [==============================] - 0s 2ms/step - loss: 0.4814 - accuracy: 0.7489 - precision_1: 0.7143 - recall_1: 0.2941 - val_loss: 0.4907 - val_accuracy: 0.7750 - val_precision_1: 0.7778 - val_recall_1: 0.5000\n"
     ]
    }
   ],
   "metadata": {}
  },
  {
   "cell_type": "markdown",
   "source": [
    "### Plotting accuracy and loss"
   ],
   "metadata": {}
  },
  {
   "cell_type": "code",
   "execution_count": 31,
   "source": [
    "training_history.history.keys()"
   ],
   "outputs": [
    {
     "output_type": "execute_result",
     "data": {
      "text/plain": [
       "dict_keys(['loss', 'accuracy', 'precision_1', 'recall_1', 'val_loss', 'val_accuracy', 'val_precision_1', 'val_recall_1'])"
      ]
     },
     "metadata": {},
     "execution_count": 31
    }
   ],
   "metadata": {}
  },
  {
   "cell_type": "code",
   "execution_count": 32,
   "source": [
    "train_acc = training_history.history['accuracy']\r\n",
    "train_loss = training_history.history['loss']\r\n",
    "\r\n",
    "precision = training_history.history['precision_1']\r\n",
    "recall = training_history.history['recall_1']\r\n",
    "\r\n",
    "epochs_range = range(num_epochs)\r\n",
    "\r\n",
    "plt.figure(figsize=(14, 8))\r\n",
    "\r\n",
    "plt.subplot(1, 2, 1)\r\n",
    "\r\n",
    "plt.plot(epochs_range, train_acc, label='Training Accuracy')\r\n",
    "plt.plot(epochs_range, train_loss, label='Training Loss')\r\n",
    "\r\n",
    "plt.title('Accuracy and Loss')\r\n",
    "plt.legend()\r\n",
    "\r\n",
    "plt.subplot(1, 2, 2)\r\n",
    "\r\n",
    "plt.plot(epochs_range, precision, label='Precision')\r\n",
    "plt.plot(epochs_range, recall, label='Recall')\r\n",
    "\r\n",
    "plt.title('Precision and Recall')\r\n",
    "plt.legend()"
   ],
   "outputs": [
    {
     "output_type": "execute_result",
     "data": {
      "text/plain": [
       "<matplotlib.legend.Legend at 0x243edabd580>"
      ]
     },
     "metadata": {},
     "execution_count": 32
    },
    {
     "output_type": "display_data",
     "data": {
      "image/png": "[encoded data removed]",
      "text/plain": [
       "<Figure size 1008x576 with 2 Axes>"
      ]
     },
     "metadata": {
      "needs_background": "light"
     }
    }
   ],
   "metadata": {}
  },
  {
   "cell_type": "markdown",
   "source": [
    "### Performing prediction"
   ],
   "metadata": {}
  },
  {
   "cell_type": "code",
   "execution_count": 33,
   "source": [
    "y_pred = model.predict(x_test)\r\n",
    "\r\n",
    "y_pred[:10]"
   ],
   "outputs": [
    {
     "output_type": "execute_result",
     "data": {
      "text/plain": [
       "array([[0.28298405],\n",
       "       [0.49340948],\n",
       "       [0.36278892],\n",
       "       [0.45621225],\n",
       "       [0.5512503 ],\n",
       "       [0.40549368],\n",
       "       [0.5732138 ],\n",
       "       [0.5314501 ],\n",
       "       [0.39720896],\n",
       "       [0.5361107 ]], dtype=float32)"
      ]
     },
     "metadata": {},
     "execution_count": 33
    }
   ],
   "metadata": {}
  },
  {
   "cell_type": "code",
   "execution_count": 34,
   "source": [
    "y_pred = np.where(y_pred>=0.5, 1, y_pred)\r\n",
    "y_pred = np.where(y_pred<0.5, 0, y_pred)"
   ],
   "outputs": [],
   "metadata": {}
  },
  {
   "cell_type": "code",
   "execution_count": 35,
   "source": [
    "y_pred[:10]"
   ],
   "outputs": [
    {
     "output_type": "execute_result",
     "data": {
      "text/plain": [
       "array([[0.],\n",
       "       [0.],\n",
       "       [0.],\n",
       "       [0.],\n",
       "       [1.],\n",
       "       [0.],\n",
       "       [1.],\n",
       "       [1.],\n",
       "       [0.],\n",
       "       [1.]], dtype=float32)"
      ]
     },
     "metadata": {},
     "execution_count": 35
    }
   ],
   "metadata": {}
  },
  {
   "cell_type": "code",
   "execution_count": 36,
   "source": [
    "pred_results = pd.DataFrame({'y_test': y_test.values.flatten(),\r\n",
    "                             'y_pred': y_pred.flatten().astype('int32') }, index = range(len(y_pred)))"
   ],
   "outputs": [],
   "metadata": {}
  },
  {
   "cell_type": "code",
   "execution_count": 37,
   "source": [
    "pred_results.sample(10)"
   ],
   "outputs": [
    {
     "output_type": "execute_result",
     "data": {
      "text/html": [
       "<div>\n",
       "<style scoped>\n",
       "    .dataframe tbody tr th:only-of-type {\n",
       "        vertical-align: middle;\n",
       "    }\n",
       "\n",
       "    .dataframe tbody tr th {\n",
       "        vertical-align: top;\n",
       "    }\n",
       "\n",
       "    .dataframe thead th {\n",
       "        text-align: right;\n",
       "    }\n",
       "</style>\n",
       "<table border=\"1\" class=\"dataframe\">\n",
       "  <thead>\n",
       "    <tr style=\"text-align: right;\">\n",
       "      <th></th>\n",
       "      <th>y_test</th>\n",
       "      <th>y_pred</th>\n",
       "    </tr>\n",
       "  </thead>\n",
       "  <tbody>\n",
       "    <tr>\n",
       "      <th>31</th>\n",
       "      <td>0</td>\n",
       "      <td>0</td>\n",
       "    </tr>\n",
       "    <tr>\n",
       "      <th>33</th>\n",
       "      <td>1</td>\n",
       "      <td>1</td>\n",
       "    </tr>\n",
       "    <tr>\n",
       "      <th>18</th>\n",
       "      <td>0</td>\n",
       "      <td>0</td>\n",
       "    </tr>\n",
       "    <tr>\n",
       "      <th>36</th>\n",
       "      <td>1</td>\n",
       "      <td>0</td>\n",
       "    </tr>\n",
       "    <tr>\n",
       "      <th>17</th>\n",
       "      <td>0</td>\n",
       "      <td>0</td>\n",
       "    </tr>\n",
       "    <tr>\n",
       "      <th>13</th>\n",
       "      <td>0</td>\n",
       "      <td>0</td>\n",
       "    </tr>\n",
       "    <tr>\n",
       "      <th>16</th>\n",
       "      <td>1</td>\n",
       "      <td>0</td>\n",
       "    </tr>\n",
       "    <tr>\n",
       "      <th>2</th>\n",
       "      <td>1</td>\n",
       "      <td>0</td>\n",
       "    </tr>\n",
       "    <tr>\n",
       "      <th>6</th>\n",
       "      <td>1</td>\n",
       "      <td>1</td>\n",
       "    </tr>\n",
       "    <tr>\n",
       "      <th>29</th>\n",
       "      <td>0</td>\n",
       "      <td>0</td>\n",
       "    </tr>\n",
       "  </tbody>\n",
       "</table>\n",
       "</div>"
      ],
      "text/plain": [
       "    y_test  y_pred\n",
       "31       0       0\n",
       "33       1       1\n",
       "18       0       0\n",
       "36       1       0\n",
       "17       0       0\n",
       "13       0       0\n",
       "16       1       0\n",
       "2        1       0\n",
       "6        1       1\n",
       "29       0       0"
      ]
     },
     "metadata": {},
     "execution_count": 37
    }
   ],
   "metadata": {}
  },
  {
   "cell_type": "code",
   "execution_count": 38,
   "source": [
    "pd.crosstab(pred_results.y_pred, pred_results.y_test)"
   ],
   "outputs": [
    {
     "output_type": "execute_result",
     "data": {
      "text/html": [
       "<div>\n",
       "<style scoped>\n",
       "    .dataframe tbody tr th:only-of-type {\n",
       "        vertical-align: middle;\n",
       "    }\n",
       "\n",
       "    .dataframe tbody tr th {\n",
       "        vertical-align: top;\n",
       "    }\n",
       "\n",
       "    .dataframe thead th {\n",
       "        text-align: right;\n",
       "    }\n",
       "</style>\n",
       "<table border=\"1\" class=\"dataframe\">\n",
       "  <thead>\n",
       "    <tr style=\"text-align: right;\">\n",
       "      <th>y_test</th>\n",
       "      <th>0</th>\n",
       "      <th>1</th>\n",
       "    </tr>\n",
       "    <tr>\n",
       "      <th>y_pred</th>\n",
       "      <th></th>\n",
       "      <th></th>\n",
       "    </tr>\n",
       "  </thead>\n",
       "  <tbody>\n",
       "    <tr>\n",
       "      <th>0</th>\n",
       "      <td>26</td>\n",
       "      <td>14</td>\n",
       "    </tr>\n",
       "    <tr>\n",
       "      <th>1</th>\n",
       "      <td>3</td>\n",
       "      <td>4</td>\n",
       "    </tr>\n",
       "  </tbody>\n",
       "</table>\n",
       "</div>"
      ],
      "text/plain": [
       "y_test   0   1\n",
       "y_pred        \n",
       "0       26  14\n",
       "1        3   4"
      ]
     },
     "metadata": {},
     "execution_count": 38
    }
   ],
   "metadata": {}
  },
  {
   "cell_type": "code",
   "execution_count": 39,
   "source": [
    "accuracy_score(y_test, y_pred)"
   ],
   "outputs": [
    {
     "output_type": "execute_result",
     "data": {
      "text/plain": [
       "0.6382978723404256"
      ]
     },
     "metadata": {},
     "execution_count": 39
    }
   ],
   "metadata": {}
  },
  {
   "cell_type": "code",
   "execution_count": 40,
   "source": [
    "precision_score(y_test, y_pred)"
   ],
   "outputs": [
    {
     "output_type": "execute_result",
     "data": {
      "text/plain": [
       "0.5714285714285714"
      ]
     },
     "metadata": {},
     "execution_count": 40
    }
   ],
   "metadata": {}
  },
  {
   "cell_type": "code",
   "execution_count": 41,
   "source": [
    "recall_score(y_test, y_pred)"
   ],
   "outputs": [
    {
     "output_type": "execute_result",
     "data": {
      "text/plain": [
       "0.2222222222222222"
      ]
     },
     "metadata": {},
     "execution_count": 41
    }
   ],
   "metadata": {}
  },
  {
   "cell_type": "markdown",
   "source": [
    "Create a model checpoint at a particular epoch. Can restart training from this checkpoint"
   ],
   "metadata": {}
  },
  {
   "cell_type": "code",
   "execution_count": 42,
   "source": [
    "ckpt_path = 'my_models/spine_classfication'\r\n",
    "ckpt_dir = os.path.dirname(ckpt_path)\r\n",
    "\r\n",
    "# create a checkpoint callback to save a checpoint after every 3 epochs\r\n",
    "# only save weights, not architecture\r\n",
    "ckpt_callback = tf.keras.callbacks.ModelCheckpoint(filepath=ckpt_path,\r\n",
    "                                                   save_weights_only=True,\r\n",
    "                                                   save_freq=3,\r\n",
    "                                                   verbose=False)"
   ],
   "outputs": [],
   "metadata": {}
  },
  {
   "cell_type": "code",
   "execution_count": 43,
   "source": [
    "model = build_and_compile_model()\r\n",
    "\r\n",
    "model.fit(dataset_train, \r\n",
    "          epochs=num_epochs, \r\n",
    "          validation_data=dataset_val,\r\n",
    "          verbose=False,\r\n",
    "          callbacks=[ckpt_callback])"
   ],
   "outputs": [
    {
     "output_type": "stream",
     "name": "stdout",
     "text": [
      "Model: \"model_2\"\n",
      "_________________________________________________________________\n",
      "Layer (type)                 Output Shape              Param #   \n",
      "=================================================================\n",
      "input_3 (InputLayer)         [(None, 12)]              0         \n",
      "_________________________________________________________________\n",
      "dense_6 (Dense)              (None, 16)                208       \n",
      "_________________________________________________________________\n",
      "dropout_2 (Dropout)          (None, 16)                0         \n",
      "_________________________________________________________________\n",
      "dense_7 (Dense)              (None, 8)                 136       \n",
      "_________________________________________________________________\n",
      "dense_8 (Dense)              (None, 1)                 9         \n",
      "=================================================================\n",
      "Total params: 353\n",
      "Trainable params: 353\n",
      "Non-trainable params: 0\n",
      "_________________________________________________________________\n"
     ]
    },
    {
     "output_type": "execute_result",
     "data": {
      "text/plain": [
       "<keras.callbacks.History at 0x243e90642b0>"
      ]
     },
     "metadata": {},
     "execution_count": 43
    }
   ],
   "metadata": {}
  },
  {
   "cell_type": "code",
   "execution_count": 45,
   "source": [
    "!dir my_models"
   ],
   "outputs": [
    {
     "output_type": "stream",
     "name": "stdout",
     "text": [
      " Volume in drive C is Windows\n",
      " Volume Serial Number is 68A0-930F\n",
      "\n",
      " Directory of c:\\Users\\user\\My_Learning\\tensorflow\\keras\\build-machine-learning-workflow-keras-tensorflow\\my_models\n",
      "\n",
      "08/09/2021  12:14 PM    <DIR>          .\n",
      "08/09/2021  12:14 PM    <DIR>          ..\n",
      "08/09/2021  12:14 PM                95 checkpoint\n",
      "08/09/2021  11:25 AM             1,730 relu_64_config.json\n",
      "08/09/2021  11:25 AM    <DIR>          relu_64_config_weights\n",
      "08/09/2021  11:15 AM            32,829 relu_64_weights.data-00000-of-00001\n",
      "08/09/2021  11:15 AM             1,603 relu_64_weights.index\n",
      "08/09/2021  12:14 PM             4,975 spine_classfication.data-00000-of-00001\n",
      "08/09/2021  12:14 PM             1,250 spine_classfication.index\n",
      "               6 File(s)         42,482 bytes\n",
      "               3 Dir(s)  231,217,074,176 bytes free\n"
     ]
    }
   ],
   "metadata": {}
  },
  {
   "cell_type": "code",
   "execution_count": 46,
   "source": [
    "y_pred = model.predict(x_test)\r\n",
    "\r\n",
    "y_pred = np.where(y_pred>=0.5, 1, y_pred)\r\n",
    "y_pred = np.where(y_pred<0.5, 0, y_pred)\r\n",
    "\r\n",
    "accuracy_score(y_test, y_pred)"
   ],
   "outputs": [
    {
     "output_type": "execute_result",
     "data": {
      "text/plain": [
       "0.6170212765957447"
      ]
     },
     "metadata": {},
     "execution_count": 46
    }
   ],
   "metadata": {}
  },
  {
   "cell_type": "markdown",
   "source": [
    "Load weights of a model from the last saved checkpoint"
   ],
   "metadata": {}
  },
  {
   "cell_type": "code",
   "execution_count": 47,
   "source": [
    "reloaded_model = build_and_compile_model()\r\n",
    "\r\n",
    "reloaded_model.load_weights(ckpt_path)"
   ],
   "outputs": [
    {
     "output_type": "stream",
     "name": "stdout",
     "text": [
      "Model: \"model_3\"\n",
      "_________________________________________________________________\n",
      "Layer (type)                 Output Shape              Param #   \n",
      "=================================================================\n",
      "input_4 (InputLayer)         [(None, 12)]              0         \n",
      "_________________________________________________________________\n",
      "dense_9 (Dense)              (None, 16)                208       \n",
      "_________________________________________________________________\n",
      "dropout_3 (Dropout)          (None, 16)                0         \n",
      "_________________________________________________________________\n",
      "dense_10 (Dense)             (None, 8)                 136       \n",
      "_________________________________________________________________\n",
      "dense_11 (Dense)             (None, 1)                 9         \n",
      "=================================================================\n",
      "Total params: 353\n",
      "Trainable params: 353\n",
      "Non-trainable params: 0\n",
      "_________________________________________________________________\n"
     ]
    },
    {
     "output_type": "execute_result",
     "data": {
      "text/plain": [
       "<tensorflow.python.training.tracking.util.CheckpointLoadStatus at 0x243efa538b0>"
      ]
     },
     "metadata": {},
     "execution_count": 47
    }
   ],
   "metadata": {}
  },
  {
   "cell_type": "code",
   "execution_count": 48,
   "source": [
    "y_pred = reloaded_model.predict(x_test)\r\n",
    "\r\n",
    "y_pred = np.where(y_pred>=0.5, 1, y_pred)\r\n",
    "y_pred = np.where(y_pred<0.5, 0, y_pred)\r\n",
    "\r\n",
    "accuracy_score(y_test, y_pred)"
   ],
   "outputs": [
    {
     "output_type": "execute_result",
     "data": {
      "text/plain": [
       "0.6170212765957447"
      ]
     },
     "metadata": {},
     "execution_count": 48
    }
   ],
   "metadata": {}
  },
  {
   "cell_type": "markdown",
   "source": [
    "Continue training process for another 5 epochs"
   ],
   "metadata": {}
  },
  {
   "cell_type": "code",
   "execution_count": 49,
   "source": [
    "reloaded_model.fit(dataset_train, \r\n",
    "                   epochs=5, \r\n",
    "                   validation_data=dataset_val)"
   ],
   "outputs": [
    {
     "output_type": "stream",
     "name": "stdout",
     "text": [
      "Epoch 1/5\n",
      "14/14 [==============================] - 4s 47ms/step - loss: 0.4983 - accuracy: 0.7578 - precision_3: 0.6667 - recall_3: 0.4118 - val_loss: 0.5161 - val_accuracy: 0.7500 - val_precision_3: 0.8333 - val_recall_3: 0.3571\n",
      "Epoch 2/5\n",
      "14/14 [==============================] - 0s 5ms/step - loss: 0.5223 - accuracy: 0.7309 - precision_3: 0.5833 - recall_3: 0.4118 - val_loss: 0.5115 - val_accuracy: 0.7500 - val_precision_3: 0.8333 - val_recall_3: 0.3571\n",
      "Epoch 3/5\n",
      "14/14 [==============================] - 0s 5ms/step - loss: 0.4947 - accuracy: 0.7489 - precision_3: 0.6875 - recall_3: 0.3235 - val_loss: 0.5054 - val_accuracy: 0.7500 - val_precision_3: 0.8333 - val_recall_3: 0.3571\n",
      "Epoch 4/5\n",
      "14/14 [==============================] - 0s 6ms/step - loss: 0.4910 - accuracy: 0.7578 - precision_3: 0.6750 - recall_3: 0.3971 - val_loss: 0.5010 - val_accuracy: 0.7500 - val_precision_3: 0.8333 - val_recall_3: 0.3571\n",
      "Epoch 5/5\n",
      "14/14 [==============================] - 0s 5ms/step - loss: 0.4826 - accuracy: 0.7713 - precision_3: 0.6667 - recall_3: 0.5000 - val_loss: 0.4959 - val_accuracy: 0.7500 - val_precision_3: 0.8333 - val_recall_3: 0.3571\n"
     ]
    },
    {
     "output_type": "execute_result",
     "data": {
      "text/plain": [
       "<keras.callbacks.History at 0x243edaa7250>"
      ]
     },
     "metadata": {},
     "execution_count": 49
    }
   ],
   "metadata": {}
  },
  {
   "cell_type": "code",
   "execution_count": 50,
   "source": [
    "y_pred = reloaded_model.predict(x_test)\r\n",
    "\r\n",
    "y_pred = np.where(y_pred>=0.5, 1, y_pred)\r\n",
    "y_pred = np.where(y_pred<0.5, 0, y_pred)\r\n",
    "\r\n",
    "accuracy_score(y_test, y_pred)"
   ],
   "outputs": [
    {
     "output_type": "execute_result",
     "data": {
      "text/plain": [
       "0.6595744680851063"
      ]
     },
     "metadata": {},
     "execution_count": 50
    }
   ],
   "metadata": {}
  },
  {
   "cell_type": "markdown",
   "source": [
    "# Use Tensorboard to monitor the model"
   ],
   "metadata": {}
  },
  {
   "cell_type": "code",
   "execution_count": 51,
   "source": [
    "# build and compile a new model\r\n",
    "model = build_and_compile_model()"
   ],
   "outputs": [
    {
     "output_type": "stream",
     "name": "stdout",
     "text": [
      "Model: \"model_4\"\n",
      "_________________________________________________________________\n",
      "Layer (type)                 Output Shape              Param #   \n",
      "=================================================================\n",
      "input_5 (InputLayer)         [(None, 12)]              0         \n",
      "_________________________________________________________________\n",
      "dense_12 (Dense)             (None, 16)                208       \n",
      "_________________________________________________________________\n",
      "dropout_4 (Dropout)          (None, 16)                0         \n",
      "_________________________________________________________________\n",
      "dense_13 (Dense)             (None, 8)                 136       \n",
      "_________________________________________________________________\n",
      "dense_14 (Dense)             (None, 1)                 9         \n",
      "=================================================================\n",
      "Total params: 353\n",
      "Trainable params: 353\n",
      "Non-trainable params: 0\n",
      "_________________________________________________________________\n"
     ]
    }
   ],
   "metadata": {}
  },
  {
   "cell_type": "code",
   "execution_count": 53,
   "source": [
    "# Specify directory to store logs\r\n",
    "log_dir = \"logs/\" + datetime.datetime.now().strftime(\"%Y%m%d-%H%M%S\")\r\n",
    "\r\n",
    "# Instantiate a tensorboard callback to track and visualise metrics during training\r\n",
    "tensorboard_callback = tf.keras.callbacks.TensorBoard(log_dir=log_dir, histogram_freq=1) # display every epoch (freq=1)"
   ],
   "outputs": [],
   "metadata": {}
  },
  {
   "cell_type": "code",
   "execution_count": 54,
   "source": [
    "model.fit(dataset_train, \r\n",
    "          epochs=num_epochs, \r\n",
    "          validation_data=dataset_val,\r\n",
    "          verbose=False,\r\n",
    "          callbacks=[tensorboard_callback])"
   ],
   "outputs": [
    {
     "output_type": "execute_result",
     "data": {
      "text/plain": [
       "<keras.callbacks.History at 0x243f0cdb8b0>"
      ]
     },
     "metadata": {},
     "execution_count": 54
    }
   ],
   "metadata": {}
  },
  {
   "cell_type": "markdown",
   "source": [
    "Once model has finished training, visualise training process with tensorboard Jupyter extension"
   ],
   "metadata": {}
  },
  {
   "cell_type": "code",
   "execution_count": 55,
   "source": [
    "%load_ext tensorboard"
   ],
   "outputs": [],
   "metadata": {}
  },
  {
   "cell_type": "code",
   "execution_count": null,
   "source": [
    "## TODO recording: Here within the Jupyter Notebook, just select the various tabs and show\r\n",
    "## what is in each tab. Scalars, graphs, distributions, histograms\r\n",
    "## Then switch over to the terminal window and run Tensorboard there"
   ],
   "outputs": [],
   "metadata": {}
  },
  {
   "cell_type": "markdown",
   "source": [
    "Launch embedded Tensorboard within notebook - is slow and rather clunky "
   ],
   "metadata": {}
  },
  {
   "cell_type": "code",
   "execution_count": 56,
   "source": [
    "%tensorboard --logdir logs/"
   ],
   "outputs": [
    {
     "output_type": "display_data",
     "data": {
      "text/html": [
       "\n",
       "      <iframe id=\"tensorboard-frame-d8c8f2f7ad9bcf8a\" width=\"100%\" height=\"800\" frameborder=\"0\">\n",
       "      </iframe>\n",
       "      <script>\n",
       "        (function() {\n",
       "          const frame = document.getElementById(\"tensorboard-frame-d8c8f2f7ad9bcf8a\");\n",
       "          const url = new URL(\"/\", window.location);\n",
       "          const port = 6006;\n",
       "          if (port) {\n",
       "            url.port = port;\n",
       "          }\n",
       "          frame.src = url;\n",
       "        })();\n",
       "      </script>\n",
       "    "
      ],
      "text/plain": [
       "<IPython.core.display.HTML object>"
      ]
     },
     "metadata": {}
    }
   ],
   "metadata": {}
  },
  {
   "cell_type": "markdown",
   "source": [
    "Instead, from a terminal, run from the project directory: \r\n",
    "```bash\r\n",
    "tensorboard --logdir logs/\r\n",
    "```\r\n",
    "And paste  http://localhost:6006/ into browser"
   ],
   "metadata": {}
  },
  {
   "cell_type": "code",
   "execution_count": null,
   "source": [],
   "outputs": [],
   "metadata": {}
  },
  {
   "cell_type": "code",
   "execution_count": null,
   "source": [],
   "outputs": [],
   "metadata": {}
  },
  {
   "cell_type": "code",
   "execution_count": null,
   "source": [],
   "outputs": [],
   "metadata": {}
  },
  {
   "cell_type": "code",
   "execution_count": null,
   "source": [],
   "outputs": [],
   "metadata": {}
  },
  {
   "cell_type": "code",
   "execution_count": null,
   "source": [],
   "outputs": [],
   "metadata": {}
  },
  {
   "cell_type": "code",
   "execution_count": null,
   "source": [],
   "outputs": [],
   "metadata": {}
  }
 ],
 "metadata": {
  "kernelspec": {
   "name": "python3",
   "display_name": "Python 3.8.8 64-bit ('py38': conda)"
  },
  "language_info": {
   "codemirror_mode": {
    "name": "ipython",
    "version": 3
   },
   "file_extension": ".py",
   "mimetype": "text/x-python",
   "name": "python",
   "nbconvert_exporter": "python",
   "pygments_lexer": "ipython3",
   "version": "3.8.8"
  },
  "interpreter": {
   "hash": "6afc29f19f8b58a000003e3b8f2bf3eec59c4293f8f7a837585d608aa0e0ec45"
  }
 },
 "nbformat": 4,
 "nbformat_minor": 2
}